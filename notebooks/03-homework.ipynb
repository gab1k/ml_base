{
 "cells": [
  {
   "cell_type": "markdown",
   "source": [
    "# EASY "
   ],
   "metadata": {
    "collapsed": false
   },
   "id": "64856bc5bfd693f1"
  },
  {
   "cell_type": "code",
   "execution_count": 76,
   "id": "initial_id",
   "metadata": {
    "collapsed": true,
    "ExecuteTime": {
     "end_time": "2024-03-15T10:33:30.062937Z",
     "start_time": "2024-03-15T10:33:30.052678Z"
    }
   },
   "outputs": [],
   "source": [
    "from sklearn.linear_model import LogisticRegression\n",
    "from sklearn.neighbors import KNeighborsClassifier\n",
    "from sklearn.model_selection import train_test_split\n",
    "from sklearn.naive_bayes import GaussianNB\n",
    "from sklearn.metrics import recall_score\n",
    "from sklearn.svm import SVC\n",
    "import pandas as pd\n",
    "\n",
    "import numpy as np\n",
    "import seaborn as sns\n",
    "import matplotlib.pyplot as plt"
   ]
  },
  {
   "cell_type": "code",
   "outputs": [
    {
     "data": {
      "text/plain": "dict_keys(['coords', 'labels', 'features', 'sizes'])"
     },
     "execution_count": 62,
     "metadata": {},
     "output_type": "execute_result"
    }
   ],
   "source": [
    "df = pd.read_pickle(\"../data/train.pickle\")\n",
    "ln = pd.read_csv(\"../data/label_names.csv\")\n",
    "label_names = {}\n",
    "for index, row in ln.iterrows():\n",
    "    label_names[row['ClassId']] = row[\"SignName\"]\n",
    "df.keys()"
   ],
   "metadata": {
    "collapsed": false,
    "ExecuteTime": {
     "end_time": "2024-03-15T09:57:08.022854Z",
     "start_time": "2024-03-15T09:57:07.880012Z"
    }
   },
   "id": "3dbf036185b8c894",
   "execution_count": 62
  },
  {
   "cell_type": "code",
   "outputs": [
    {
     "name": "stdout",
     "output_type": "stream",
     "text": [
      "(27839, 32, 32, 3) (6960, 32, 32, 3) (27839,) (6960,)\n",
      "(27839, 3072) (6960, 3072) (27839,) (6960,)\n"
     ]
    }
   ],
   "source": [
    "x_train, x_test, y_train, y_test = train_test_split(df[\"features\"], df[\"labels\"], train_size=0.8)\n",
    "print(x_train.shape, x_test.shape, y_train.shape, y_test.shape)\n",
    "correct_sz = x_train.shape[1] * x_train.shape[2] * x_train.shape[3]\n",
    "\n",
    "x_train = x_train.reshape((x_train.shape[0], correct_sz))\n",
    "x_test = x_test.reshape((x_test.shape[0], correct_sz))\n",
    "print(x_train.shape, x_test.shape, y_train.shape, y_test.shape)"
   ],
   "metadata": {
    "collapsed": false,
    "ExecuteTime": {
     "end_time": "2024-03-15T09:57:08.442140Z",
     "start_time": "2024-03-15T09:57:08.387111Z"
    }
   },
   "id": "a8e142fecf624038",
   "execution_count": 63
  },
  {
   "cell_type": "code",
   "outputs": [
    {
     "name": "stderr",
     "output_type": "stream",
     "text": [
      "/home/gabik/anaconda3/envs/hse_ml_course_2024/lib/python3.8/site-packages/sklearn/linear_model/_logistic.py:460: ConvergenceWarning: lbfgs failed to converge (status=1):\n",
      "STOP: TOTAL NO. of ITERATIONS REACHED LIMIT.\n",
      "\n",
      "Increase the number of iterations (max_iter) or scale the data as shown in:\n",
      "    https://scikit-learn.org/stable/modules/preprocessing.html\n",
      "Please also refer to the documentation for alternative solver options:\n",
      "    https://scikit-learn.org/stable/modules/linear_model.html#logistic-regression\n",
      "  n_iter_i = _check_optimize_result(\n"
     ]
    },
    {
     "data": {
      "text/plain": "LogisticRegression(max_iter=500)",
      "text/html": "<style>#sk-container-id-2 {color: black;}#sk-container-id-2 pre{padding: 0;}#sk-container-id-2 div.sk-toggleable {background-color: white;}#sk-container-id-2 label.sk-toggleable__label {cursor: pointer;display: block;width: 100%;margin-bottom: 0;padding: 0.3em;box-sizing: border-box;text-align: center;}#sk-container-id-2 label.sk-toggleable__label-arrow:before {content: \"▸\";float: left;margin-right: 0.25em;color: #696969;}#sk-container-id-2 label.sk-toggleable__label-arrow:hover:before {color: black;}#sk-container-id-2 div.sk-estimator:hover label.sk-toggleable__label-arrow:before {color: black;}#sk-container-id-2 div.sk-toggleable__content {max-height: 0;max-width: 0;overflow: hidden;text-align: left;background-color: #f0f8ff;}#sk-container-id-2 div.sk-toggleable__content pre {margin: 0.2em;color: black;border-radius: 0.25em;background-color: #f0f8ff;}#sk-container-id-2 input.sk-toggleable__control:checked~div.sk-toggleable__content {max-height: 200px;max-width: 100%;overflow: auto;}#sk-container-id-2 input.sk-toggleable__control:checked~label.sk-toggleable__label-arrow:before {content: \"▾\";}#sk-container-id-2 div.sk-estimator input.sk-toggleable__control:checked~label.sk-toggleable__label {background-color: #d4ebff;}#sk-container-id-2 div.sk-label input.sk-toggleable__control:checked~label.sk-toggleable__label {background-color: #d4ebff;}#sk-container-id-2 input.sk-hidden--visually {border: 0;clip: rect(1px 1px 1px 1px);clip: rect(1px, 1px, 1px, 1px);height: 1px;margin: -1px;overflow: hidden;padding: 0;position: absolute;width: 1px;}#sk-container-id-2 div.sk-estimator {font-family: monospace;background-color: #f0f8ff;border: 1px dotted black;border-radius: 0.25em;box-sizing: border-box;margin-bottom: 0.5em;}#sk-container-id-2 div.sk-estimator:hover {background-color: #d4ebff;}#sk-container-id-2 div.sk-parallel-item::after {content: \"\";width: 100%;border-bottom: 1px solid gray;flex-grow: 1;}#sk-container-id-2 div.sk-label:hover label.sk-toggleable__label {background-color: #d4ebff;}#sk-container-id-2 div.sk-serial::before {content: \"\";position: absolute;border-left: 1px solid gray;box-sizing: border-box;top: 0;bottom: 0;left: 50%;z-index: 0;}#sk-container-id-2 div.sk-serial {display: flex;flex-direction: column;align-items: center;background-color: white;padding-right: 0.2em;padding-left: 0.2em;position: relative;}#sk-container-id-2 div.sk-item {position: relative;z-index: 1;}#sk-container-id-2 div.sk-parallel {display: flex;align-items: stretch;justify-content: center;background-color: white;position: relative;}#sk-container-id-2 div.sk-item::before, #sk-container-id-2 div.sk-parallel-item::before {content: \"\";position: absolute;border-left: 1px solid gray;box-sizing: border-box;top: 0;bottom: 0;left: 50%;z-index: -1;}#sk-container-id-2 div.sk-parallel-item {display: flex;flex-direction: column;z-index: 1;position: relative;background-color: white;}#sk-container-id-2 div.sk-parallel-item:first-child::after {align-self: flex-end;width: 50%;}#sk-container-id-2 div.sk-parallel-item:last-child::after {align-self: flex-start;width: 50%;}#sk-container-id-2 div.sk-parallel-item:only-child::after {width: 0;}#sk-container-id-2 div.sk-dashed-wrapped {border: 1px dashed gray;margin: 0 0.4em 0.5em 0.4em;box-sizing: border-box;padding-bottom: 0.4em;background-color: white;}#sk-container-id-2 div.sk-label label {font-family: monospace;font-weight: bold;display: inline-block;line-height: 1.2em;}#sk-container-id-2 div.sk-label-container {text-align: center;}#sk-container-id-2 div.sk-container {/* jupyter's `normalize.less` sets `[hidden] { display: none; }` but bootstrap.min.css set `[hidden] { display: none !important; }` so we also need the `!important` here to be able to override the default hidden behavior on the sphinx rendered scikit-learn.org. See: https://github.com/scikit-learn/scikit-learn/issues/21755 */display: inline-block !important;position: relative;}#sk-container-id-2 div.sk-text-repr-fallback {display: none;}</style><div id=\"sk-container-id-2\" class=\"sk-top-container\"><div class=\"sk-text-repr-fallback\"><pre>LogisticRegression(max_iter=500)</pre><b>In a Jupyter environment, please rerun this cell to show the HTML representation or trust the notebook. <br />On GitHub, the HTML representation is unable to render, please try loading this page with nbviewer.org.</b></div><div class=\"sk-container\" hidden><div class=\"sk-item\"><div class=\"sk-estimator sk-toggleable\"><input class=\"sk-toggleable__control sk-hidden--visually\" id=\"sk-estimator-id-2\" type=\"checkbox\" checked><label for=\"sk-estimator-id-2\" class=\"sk-toggleable__label sk-toggleable__label-arrow\">LogisticRegression</label><div class=\"sk-toggleable__content\"><pre>LogisticRegression(max_iter=500)</pre></div></div></div></div></div>"
     },
     "execution_count": 64,
     "metadata": {},
     "output_type": "execute_result"
    }
   ],
   "source": [
    "model = LogisticRegression(max_iter=500)\n",
    "model.fit(x_train, y_train)\n",
    "y_pred = model.predict(x_test)\n",
    "error_LR = recall_score(y_test, y_pred, average=\"micro\")\n",
    "error_LR"
   ],
   "metadata": {
    "collapsed": false,
    "ExecuteTime": {
     "end_time": "2024-03-15T10:00:27.125468Z",
     "start_time": "2024-03-15T09:57:09.236815Z"
    }
   },
   "id": "6dd1f5ea8c940ed0",
   "execution_count": 64
  },
  {
   "cell_type": "markdown",
   "source": [
    "Выбираем метрику полноты, потому что нам самое важное - положительные срабатывания "
   ],
   "metadata": {
    "collapsed": false
   },
   "id": "f2c895e44a8b0fab"
  },
  {
   "cell_type": "code",
   "outputs": [
    {
     "name": "stdout",
     "output_type": "stream",
     "text": [
      "Хуже всего распознаются знаки:  Bicycles crossing\n"
     ]
    }
   ],
   "source": [
    "res = {}\n",
    "cnt = {}\n",
    "for i in range(len(y_pred)):\n",
    "    res[y_test[i]] = res.get(y_test[i], 0) + (y_test[i] == y_pred[i])\n",
    "    cnt[y_test[i]] = cnt.get(y_test[i], 0 ) + 1\n",
    "total = []\n",
    "for key, count in cnt.items():\n",
    "    total.append((res[key]/count, key, label_names[key]))\n",
    "total.sort()\n",
    "print(\"Хуже всего распознаются знаки: \", total[0][2])"
   ],
   "metadata": {
    "collapsed": false,
    "ExecuteTime": {
     "end_time": "2024-03-15T10:06:50.404078Z",
     "start_time": "2024-03-15T10:06:50.380549Z"
    }
   },
   "id": "c682b1adbb8ae4b0",
   "execution_count": 66
  },
  {
   "cell_type": "code",
   "outputs": [],
   "source": [],
   "metadata": {
    "collapsed": false
   },
   "id": "fca2cb5f2ba634fc"
  },
  {
   "cell_type": "markdown",
   "source": [
    "## Medium"
   ],
   "metadata": {
    "collapsed": false
   },
   "id": "75138753e35ce56"
  },
  {
   "cell_type": "code",
   "outputs": [],
   "source": [
    "total_score = {\"логистическая регрессия\": error_LR}"
   ],
   "metadata": {
    "collapsed": false,
    "ExecuteTime": {
     "end_time": "2024-03-15T10:16:40.946658Z",
     "start_time": "2024-03-15T10:16:40.934051Z"
    }
   },
   "id": "5f17f046f2605c3f",
   "execution_count": 69
  },
  {
   "cell_type": "code",
   "outputs": [],
   "source": [
    "model = KNeighborsClassifier()\n",
    "model.fit(x_train, y_train)\n",
    "y_pred = model.predict(x_test)\n",
    "total_score[\"KNN\"] = recall_score(y_test, y_pred, average=\"micro\")"
   ],
   "metadata": {
    "collapsed": false,
    "ExecuteTime": {
     "end_time": "2024-03-15T10:17:08.135464Z",
     "start_time": "2024-03-15T10:16:57.961513Z"
    }
   },
   "id": "1810305810fed6a5",
   "execution_count": 70
  },
  {
   "cell_type": "code",
   "outputs": [],
   "source": [
    "model = GaussianNB()\n",
    "model.fit(x_train, y_train)\n",
    "y_pred = model.predict(x_test)\n",
    "total_score[\"НБК\"] = recall_score(y_test, y_pred, average=\"micro\")"
   ],
   "metadata": {
    "collapsed": false,
    "ExecuteTime": {
     "end_time": "2024-03-15T10:20:20.238119Z",
     "start_time": "2024-03-15T10:20:14.441434Z"
    }
   },
   "id": "57e5a8b75b9f1553",
   "execution_count": 73
  },
  {
   "cell_type": "code",
   "outputs": [],
   "source": [
    "kernels = [\"linear\", \"poly\", \"rbf\"]\n",
    "for kernel in kernels:\n",
    "    model = SVC(kernel=kernel)\n",
    "    model.fit(x_train, y_train)\n",
    "    y_pred = model.predict(x_test)\n",
    "    total_score[\"SVC. kernel=\" + kernel] = recall_score(y_test, y_pred, average=\"micro\")"
   ],
   "metadata": {
    "collapsed": false,
    "ExecuteTime": {
     "end_time": "2024-03-15T11:29:09.111128Z",
     "start_time": "2024-03-15T10:42:16.279476Z"
    }
   },
   "id": "55b13c9aebea26eb",
   "execution_count": 79
  },
  {
   "cell_type": "code",
   "outputs": [
    {
     "data": {
      "text/plain": "{'логистическая регрессия': 0.9564655172413793,\n 'KNN': 0.881896551724138,\n 'НБК': 0.16982758620689656,\n 'SVC linear': 0.962212643678161,\n 'SVC poly': 0.7205459770114943,\n 'SVC rbf': 0.8866379310344827}"
     },
     "execution_count": 82,
     "metadata": {},
     "output_type": "execute_result"
    }
   ],
   "source": [
    "total_score"
   ],
   "metadata": {
    "collapsed": false,
    "ExecuteTime": {
     "end_time": "2024-03-15T11:43:05.483805Z",
     "start_time": "2024-03-15T11:43:05.469240Z"
    }
   },
   "id": "5fa2e535cbb7ff87",
   "execution_count": 82
  },
  {
   "cell_type": "code",
   "outputs": [
    {
     "name": "stdout",
     "output_type": "stream",
     "text": [
      "Лучше всего отработала модель SVC linear, с показателем 0.962212643678161\n",
      "Хуже всего отработала модель НБК, с показателем 0.16982758620689656\n"
     ]
    }
   ],
   "source": [
    "best = (0, None)\n",
    "worst = (2, None)\n",
    "for key, val in total_score.items():\n",
    "    if val > best[0]:\n",
    "        best = (val, key)\n",
    "    if val < worst[0]:\n",
    "        worst = (val, key)\n",
    "print(f\"Лучше всего отработала модель {best[1]}, с показателем {best[0]}\")\n",
    "print(f\"Хуже всего отработала модель {worst[1]}, с показателем {worst[0]}\")"
   ],
   "metadata": {
    "collapsed": false,
    "ExecuteTime": {
     "end_time": "2024-03-15T11:42:51.390461Z",
     "start_time": "2024-03-15T11:42:51.382941Z"
    }
   },
   "id": "cd9bb63ea5a7827f",
   "execution_count": 81
  }
 ],
 "metadata": {
  "kernelspec": {
   "display_name": "Python 3",
   "language": "python",
   "name": "python3"
  },
  "language_info": {
   "codemirror_mode": {
    "name": "ipython",
    "version": 2
   },
   "file_extension": ".py",
   "mimetype": "text/x-python",
   "name": "python",
   "nbconvert_exporter": "python",
   "pygments_lexer": "ipython2",
   "version": "2.7.6"
  }
 },
 "nbformat": 4,
 "nbformat_minor": 5
}
