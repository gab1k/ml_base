{
 "cells": [
  {
   "cell_type": "markdown",
   "source": [
    "# EASY "
   ],
   "metadata": {
    "collapsed": false
   },
   "id": "64856bc5bfd693f1"
  },
  {
   "cell_type": "code",
   "execution_count": 1,
   "id": "initial_id",
   "metadata": {
    "collapsed": true,
    "ExecuteTime": {
     "end_time": "2024-03-15T15:43:37.334147Z",
     "start_time": "2024-03-15T15:43:36.831728Z"
    }
   },
   "outputs": [],
   "source": [
    "from sklearn.linear_model import LogisticRegression\n",
    "from sklearn.neighbors import KNeighborsClassifier\n",
    "from sklearn.model_selection import train_test_split\n",
    "from sklearn.naive_bayes import GaussianNB\n",
    "from sklearn.metrics import recall_score\n",
    "from sklearn.svm import SVC\n",
    "import pandas as pd"
   ]
  },
  {
   "cell_type": "code",
   "outputs": [
    {
     "data": {
      "text/plain": "dict_keys(['coords', 'labels', 'features', 'sizes'])"
     },
     "execution_count": 2,
     "metadata": {},
     "output_type": "execute_result"
    }
   ],
   "source": [
    "df = pd.read_pickle(\"../data/train.pickle\")\n",
    "ln = pd.read_csv(\"../data/label_names.csv\")\n",
    "label_names = {}\n",
    "for index, row in ln.iterrows():\n",
    "    label_names[row['ClassId']] = row[\"SignName\"]\n",
    "df.keys()"
   ],
   "metadata": {
    "collapsed": false,
    "ExecuteTime": {
     "end_time": "2024-03-15T15:43:39.477212Z",
     "start_time": "2024-03-15T15:43:39.134482Z"
    }
   },
   "id": "3dbf036185b8c894",
   "execution_count": 2
  },
  {
   "cell_type": "code",
   "outputs": [
    {
     "name": "stdout",
     "output_type": "stream",
     "text": [
      "(27839, 32, 32, 3) (6960, 32, 32, 3) (27839,) (6960,)\n",
      "(27839, 3072) (6960, 3072) (27839,) (6960,)\n"
     ]
    }
   ],
   "source": [
    "x_train, x_test, y_train, y_test = train_test_split(df[\"features\"], df[\"labels\"], train_size=0.8)\n",
    "print(x_train.shape, x_test.shape, y_train.shape, y_test.shape)\n",
    "correct_sz = x_train.shape[1] * x_train.shape[2] * x_train.shape[3]\n",
    "\n",
    "x_train = x_train.reshape((x_train.shape[0], correct_sz))\n",
    "x_test = x_test.reshape((x_test.shape[0], correct_sz))\n",
    "print(x_train.shape, x_test.shape, y_train.shape, y_test.shape)"
   ],
   "metadata": {
    "collapsed": false,
    "ExecuteTime": {
     "end_time": "2024-03-15T15:43:40.235661Z",
     "start_time": "2024-03-15T15:43:40.139119Z"
    }
   },
   "id": "a8e142fecf624038",
   "execution_count": 3
  },
  {
   "cell_type": "code",
   "outputs": [
    {
     "name": "stderr",
     "output_type": "stream",
     "text": [
      "/home/gabik/anaconda3/envs/hse_ml_course_2024/lib/python3.8/site-packages/sklearn/linear_model/_logistic.py:460: ConvergenceWarning: lbfgs failed to converge (status=1):\n",
      "STOP: TOTAL NO. of ITERATIONS REACHED LIMIT.\n",
      "\n",
      "Increase the number of iterations (max_iter) or scale the data as shown in:\n",
      "    https://scikit-learn.org/stable/modules/preprocessing.html\n",
      "Please also refer to the documentation for alternative solver options:\n",
      "    https://scikit-learn.org/stable/modules/linear_model.html#logistic-regression\n",
      "  n_iter_i = _check_optimize_result(\n"
     ]
    },
    {
     "data": {
      "text/plain": "0.9522988505747126"
     },
     "execution_count": 4,
     "metadata": {},
     "output_type": "execute_result"
    }
   ],
   "source": [
    "model = LogisticRegression(max_iter=500)\n",
    "model.fit(x_train, y_train)\n",
    "y_pred = model.predict(x_test)\n",
    "error_LR = recall_score(y_test, y_pred, average=\"micro\")\n",
    "error_LR"
   ],
   "metadata": {
    "collapsed": false,
    "ExecuteTime": {
     "end_time": "2024-03-15T15:45:46.698870Z",
     "start_time": "2024-03-15T15:43:42.814803Z"
    }
   },
   "id": "6dd1f5ea8c940ed0",
   "execution_count": 4
  },
  {
   "cell_type": "markdown",
   "source": [
    "Выбираем метрику полноты, потому что нам самое важное - положительные срабатывания "
   ],
   "metadata": {
    "collapsed": false
   },
   "id": "f2c895e44a8b0fab"
  },
  {
   "cell_type": "code",
   "outputs": [
    {
     "name": "stdout",
     "output_type": "stream",
     "text": [
      "Хуже всего распознаются знаки:  Bicycles crossing\n"
     ]
    }
   ],
   "source": [
    "res = {}\n",
    "cnt = {}\n",
    "for i in range(len(y_pred)):\n",
    "    res[y_test[i]] = res.get(y_test[i], 0) + (y_test[i] == y_pred[i])\n",
    "    cnt[y_test[i]] = cnt.get(y_test[i], 0 ) + 1\n",
    "total = []\n",
    "for key, count in cnt.items():\n",
    "    total.append((res[key]/count, key, label_names[key]))\n",
    "total.sort()\n",
    "print(\"Хуже всего распознаются знаки: \", total[0][2])"
   ],
   "metadata": {
    "collapsed": false,
    "ExecuteTime": {
     "end_time": "2024-03-15T15:45:46.724800Z",
     "start_time": "2024-03-15T15:45:46.701305Z"
    }
   },
   "id": "c682b1adbb8ae4b0",
   "execution_count": 5
  },
  {
   "cell_type": "markdown",
   "source": [
    "# Medium"
   ],
   "metadata": {
    "collapsed": false
   },
   "id": "75138753e35ce56"
  },
  {
   "cell_type": "code",
   "outputs": [],
   "source": [
    "total_score = {\"логистическая регрессия\": error_LR}"
   ],
   "metadata": {
    "collapsed": false,
    "ExecuteTime": {
     "end_time": "2024-03-15T15:45:46.799949Z",
     "start_time": "2024-03-15T15:45:46.726582Z"
    }
   },
   "id": "5f17f046f2605c3f",
   "execution_count": 6
  },
  {
   "cell_type": "code",
   "outputs": [],
   "source": [
    "model = KNeighborsClassifier()\n",
    "model.fit(x_train, y_train)\n",
    "y_pred = model.predict(x_test)\n",
    "total_score[\"KNN\"] = recall_score(y_test, y_pred, average=\"micro\")"
   ],
   "metadata": {
    "collapsed": false,
    "ExecuteTime": {
     "end_time": "2024-03-15T15:46:00.405850Z",
     "start_time": "2024-03-15T15:45:46.802995Z"
    }
   },
   "id": "1810305810fed6a5",
   "execution_count": 7
  },
  {
   "cell_type": "code",
   "outputs": [],
   "source": [
    "model = GaussianNB()\n",
    "model.fit(x_train, y_train)\n",
    "y_pred = model.predict(x_test)\n",
    "total_score[\"НБК\"] = recall_score(y_test, y_pred, average=\"micro\")"
   ],
   "metadata": {
    "collapsed": false,
    "ExecuteTime": {
     "end_time": "2024-03-15T15:46:05.111342Z",
     "start_time": "2024-03-15T15:46:00.407078Z"
    }
   },
   "id": "57e5a8b75b9f1553",
   "execution_count": 8
  },
  {
   "cell_type": "code",
   "outputs": [],
   "source": [
    "kernels = [\"linear\", \"poly\", \"rbf\"]\n",
    "for kernel in kernels:\n",
    "    model = SVC(kernel=kernel)\n",
    "    model.fit(x_train, y_train)\n",
    "    y_pred = model.predict(x_test)\n",
    "    total_score[\"SVC. kernel=\" + kernel] = recall_score(y_test, y_pred, average=\"micro\")"
   ],
   "metadata": {
    "collapsed": false,
    "ExecuteTime": {
     "end_time": "2024-03-15T16:33:20.425389Z",
     "start_time": "2024-03-15T15:46:05.112426Z"
    }
   },
   "id": "55b13c9aebea26eb",
   "execution_count": 9
  },
  {
   "cell_type": "code",
   "outputs": [
    {
     "data": {
      "text/plain": "{'логистическая регрессия': 0.9522988505747126,\n 'KNN': 0.8806034482758621,\n 'НБК': 0.17025862068965517,\n 'SVC. kernel=linear': 0.962212643678161,\n 'SVC. kernel=poly': 0.7107758620689655,\n 'SVC. kernel=rbf': 0.875}"
     },
     "execution_count": 10,
     "metadata": {},
     "output_type": "execute_result"
    }
   ],
   "source": [
    "total_score"
   ],
   "metadata": {
    "collapsed": false,
    "ExecuteTime": {
     "end_time": "2024-03-15T16:33:20.430457Z",
     "start_time": "2024-03-15T16:33:20.426534Z"
    }
   },
   "id": "5fa2e535cbb7ff87",
   "execution_count": 10
  },
  {
   "cell_type": "code",
   "outputs": [
    {
     "name": "stdout",
     "output_type": "stream",
     "text": [
      "Лучше всего отработала модель SVC. kernel=linear, с показателем 0.962212643678161\n",
      "Хуже всего отработала модель НБК, с показателем 0.17025862068965517\n"
     ]
    }
   ],
   "source": [
    "best = (0, None)\n",
    "worst = (2, None)\n",
    "for key, val in total_score.items():\n",
    "    if val > best[0]:\n",
    "        best = (val, key)\n",
    "    if val < worst[0]:\n",
    "        worst = (val, key)\n",
    "print(f\"Лучше всего отработала модель {best[1]}, с показателем {best[0]}\")\n",
    "print(f\"Хуже всего отработала модель {worst[1]}, с показателем {worst[0]}\")"
   ],
   "metadata": {
    "collapsed": false,
    "ExecuteTime": {
     "end_time": "2024-03-15T16:33:20.516959Z",
     "start_time": "2024-03-15T16:33:20.431631Z"
    }
   },
   "id": "cd9bb63ea5a7827f",
   "execution_count": 11
  },
  {
   "cell_type": "markdown",
   "source": [
    "### Хуже всего отработал Наивный байесовский классификатор, так как наши признаки зависимы"
   ],
   "metadata": {
    "collapsed": false
   },
   "id": "3384cbbbb6076307"
  },
  {
   "cell_type": "code",
   "outputs": [],
   "source": [],
   "metadata": {
    "collapsed": false
   },
   "id": "8f122c50f5da48b3"
  }
 ],
 "metadata": {
  "kernelspec": {
   "display_name": "Python 3",
   "language": "python",
   "name": "python3"
  },
  "language_info": {
   "codemirror_mode": {
    "name": "ipython",
    "version": 2
   },
   "file_extension": ".py",
   "mimetype": "text/x-python",
   "name": "python",
   "nbconvert_exporter": "python",
   "pygments_lexer": "ipython2",
   "version": "2.7.6"
  }
 },
 "nbformat": 4,
 "nbformat_minor": 5
}
