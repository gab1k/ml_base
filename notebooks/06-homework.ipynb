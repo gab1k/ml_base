{
 "cells": [
  {
   "cell_type": "code",
   "id": "initial_id",
   "metadata": {
    "collapsed": true,
    "ExecuteTime": {
     "end_time": "2024-05-08T08:54:07.020669Z",
     "start_time": "2024-05-08T08:54:06.561460Z"
    }
   },
   "source": [
    "import pandas as pd\n",
    "from sklearn.model_selection import train_test_split\n",
    "from sklearn.linear_model import LogisticRegression\n",
    "from sklearn.metrics import f1_score\n",
    "from sklearn.feature_extraction.text import CountVectorizer, TfidfVectorizer\n",
    "from sklearn.ensemble import RandomForestClassifier\n",
    "from sklearn.pipeline import Pipeline\n",
    "from sklearn.svm import SVC\n",
    "from nltk.stem import WordNetLemmatizer\n"
   ],
   "outputs": [],
   "execution_count": 1
  },
  {
   "metadata": {},
   "cell_type": "markdown",
   "source": "# EASY",
   "id": "dcc9091831bc51d2"
  },
  {
   "metadata": {
    "ExecuteTime": {
     "end_time": "2024-05-08T08:54:07.613708Z",
     "start_time": "2024-05-08T08:54:07.467695Z"
    }
   },
   "cell_type": "code",
   "source": [
    "df_start = pd.read_csv('../data/singapore_airlines_reviews.csv')\n",
    "df_start.head()"
   ],
   "id": "bc094f07321b5f8d",
   "outputs": [
    {
     "data": {
      "text/plain": [
       "              published_date published_platform  rating    type  \\\n",
       "0  2024-03-12T14:41:14-04:00            Desktop       3  review   \n",
       "1  2024-03-11T19:39:13-04:00            Desktop       5  review   \n",
       "2  2024-03-11T12:20:23-04:00            Desktop       1  review   \n",
       "3  2024-03-11T07:12:27-04:00            Desktop       5  review   \n",
       "4  2024-03-10T05:34:18-04:00            Desktop       2  review   \n",
       "\n",
       "                                                text  \\\n",
       "0  We used this airline to go from Singapore to L...   \n",
       "1  The service on Singapore Airlines Suites Class...   \n",
       "2  Booked, paid and received email confirmation f...   \n",
       "3  Best airline in the world, seats, food, servic...   \n",
       "4  Premium Economy Seating on Singapore Airlines ...   \n",
       "\n",
       "                                               title  helpful_votes  \n",
       "0                                                 Ok              0  \n",
       "1  The service in Suites Class makes one feel lik...              0  \n",
       "2                         Don’t give them your money              0  \n",
       "3                          Best Airline in the World              0  \n",
       "4  Premium Economy Seating on Singapore Airlines ...              0  "
      ],
      "text/html": [
       "<div>\n",
       "<style scoped>\n",
       "    .dataframe tbody tr th:only-of-type {\n",
       "        vertical-align: middle;\n",
       "    }\n",
       "\n",
       "    .dataframe tbody tr th {\n",
       "        vertical-align: top;\n",
       "    }\n",
       "\n",
       "    .dataframe thead th {\n",
       "        text-align: right;\n",
       "    }\n",
       "</style>\n",
       "<table border=\"1\" class=\"dataframe\">\n",
       "  <thead>\n",
       "    <tr style=\"text-align: right;\">\n",
       "      <th></th>\n",
       "      <th>published_date</th>\n",
       "      <th>published_platform</th>\n",
       "      <th>rating</th>\n",
       "      <th>type</th>\n",
       "      <th>text</th>\n",
       "      <th>title</th>\n",
       "      <th>helpful_votes</th>\n",
       "    </tr>\n",
       "  </thead>\n",
       "  <tbody>\n",
       "    <tr>\n",
       "      <th>0</th>\n",
       "      <td>2024-03-12T14:41:14-04:00</td>\n",
       "      <td>Desktop</td>\n",
       "      <td>3</td>\n",
       "      <td>review</td>\n",
       "      <td>We used this airline to go from Singapore to L...</td>\n",
       "      <td>Ok</td>\n",
       "      <td>0</td>\n",
       "    </tr>\n",
       "    <tr>\n",
       "      <th>1</th>\n",
       "      <td>2024-03-11T19:39:13-04:00</td>\n",
       "      <td>Desktop</td>\n",
       "      <td>5</td>\n",
       "      <td>review</td>\n",
       "      <td>The service on Singapore Airlines Suites Class...</td>\n",
       "      <td>The service in Suites Class makes one feel lik...</td>\n",
       "      <td>0</td>\n",
       "    </tr>\n",
       "    <tr>\n",
       "      <th>2</th>\n",
       "      <td>2024-03-11T12:20:23-04:00</td>\n",
       "      <td>Desktop</td>\n",
       "      <td>1</td>\n",
       "      <td>review</td>\n",
       "      <td>Booked, paid and received email confirmation f...</td>\n",
       "      <td>Don’t give them your money</td>\n",
       "      <td>0</td>\n",
       "    </tr>\n",
       "    <tr>\n",
       "      <th>3</th>\n",
       "      <td>2024-03-11T07:12:27-04:00</td>\n",
       "      <td>Desktop</td>\n",
       "      <td>5</td>\n",
       "      <td>review</td>\n",
       "      <td>Best airline in the world, seats, food, servic...</td>\n",
       "      <td>Best Airline in the World</td>\n",
       "      <td>0</td>\n",
       "    </tr>\n",
       "    <tr>\n",
       "      <th>4</th>\n",
       "      <td>2024-03-10T05:34:18-04:00</td>\n",
       "      <td>Desktop</td>\n",
       "      <td>2</td>\n",
       "      <td>review</td>\n",
       "      <td>Premium Economy Seating on Singapore Airlines ...</td>\n",
       "      <td>Premium Economy Seating on Singapore Airlines ...</td>\n",
       "      <td>0</td>\n",
       "    </tr>\n",
       "  </tbody>\n",
       "</table>\n",
       "</div>"
      ]
     },
     "execution_count": 2,
     "metadata": {},
     "output_type": "execute_result"
    }
   ],
   "execution_count": 2
  },
  {
   "metadata": {},
   "cell_type": "markdown",
   "source": "Узнаем какие типы отзывов вообще бывают:",
   "id": "a76a3e7d749f6ff8"
  },
  {
   "metadata": {
    "ExecuteTime": {
     "end_time": "2024-05-08T08:54:08.523878Z",
     "start_time": "2024-05-08T08:54:08.131693Z"
    }
   },
   "cell_type": "code",
   "source": [
    "print(*df_start['type'].unique())\n",
    "df_start['rating'].hist()"
   ],
   "id": "362879acf156d2d9",
   "outputs": [
    {
     "name": "stdout",
     "output_type": "stream",
     "text": [
      "review\n"
     ]
    },
    {
     "data": {
      "text/plain": [
       "<Axes: >"
      ]
     },
     "execution_count": 3,
     "metadata": {},
     "output_type": "execute_result"
    },
    {
     "data": {
      "text/plain": [
       "<Figure size 640x480 with 1 Axes>"
      ],
      "image/png": "[encoded data removed]"
     },
     "metadata": {},
     "output_type": "display_data"
    }
   ],
   "execution_count": 3
  },
  {
   "metadata": {},
   "cell_type": "markdown",
   "source": [
    "Мы видим дисбаланс классов, поэтому будем использовать метрику `f1_score` Давайте объединим титульник и текст в нашей модели, т.к. хотим преобразовать наш датасет в BOW (и порядок слов нам будет неважен).\n",
    "\n",
    "Чтобы упростить задачу, оставим только текст отзыва и сам рейтинг"
   ],
   "id": "700612e96da270c1"
  },
  {
   "metadata": {
    "ExecuteTime": {
     "end_time": "2024-05-08T08:54:08.896453Z",
     "start_time": "2024-05-08T08:54:08.872136Z"
    }
   },
   "cell_type": "code",
   "source": [
    "df = df_start[['rating']].copy()\n",
    "df['text'] = (df_start[[\"title\"]].squeeze() + \" \" + df_start[[\"text\"]].squeeze())\n",
    "df.head()"
   ],
   "id": "fcb7f0216a1f6d65",
   "outputs": [
    {
     "data": {
      "text/plain": [
       "   rating                                               text\n",
       "0       3  Ok We used this airline to go from Singapore t...\n",
       "1       5  The service in Suites Class makes one feel lik...\n",
       "2       1  Don’t give them your money Booked, paid and re...\n",
       "3       5  Best Airline in the World Best airline in the ...\n",
       "4       2  Premium Economy Seating on Singapore Airlines ..."
      ],
      "text/html": [
       "<div>\n",
       "<style scoped>\n",
       "    .dataframe tbody tr th:only-of-type {\n",
       "        vertical-align: middle;\n",
       "    }\n",
       "\n",
       "    .dataframe tbody tr th {\n",
       "        vertical-align: top;\n",
       "    }\n",
       "\n",
       "    .dataframe thead th {\n",
       "        text-align: right;\n",
       "    }\n",
       "</style>\n",
       "<table border=\"1\" class=\"dataframe\">\n",
       "  <thead>\n",
       "    <tr style=\"text-align: right;\">\n",
       "      <th></th>\n",
       "      <th>rating</th>\n",
       "      <th>text</th>\n",
       "    </tr>\n",
       "  </thead>\n",
       "  <tbody>\n",
       "    <tr>\n",
       "      <th>0</th>\n",
       "      <td>3</td>\n",
       "      <td>Ok We used this airline to go from Singapore t...</td>\n",
       "    </tr>\n",
       "    <tr>\n",
       "      <th>1</th>\n",
       "      <td>5</td>\n",
       "      <td>The service in Suites Class makes one feel lik...</td>\n",
       "    </tr>\n",
       "    <tr>\n",
       "      <th>2</th>\n",
       "      <td>1</td>\n",
       "      <td>Don’t give them your money Booked, paid and re...</td>\n",
       "    </tr>\n",
       "    <tr>\n",
       "      <th>3</th>\n",
       "      <td>5</td>\n",
       "      <td>Best Airline in the World Best airline in the ...</td>\n",
       "    </tr>\n",
       "    <tr>\n",
       "      <th>4</th>\n",
       "      <td>2</td>\n",
       "      <td>Premium Economy Seating on Singapore Airlines ...</td>\n",
       "    </tr>\n",
       "  </tbody>\n",
       "</table>\n",
       "</div>"
      ]
     },
     "execution_count": 4,
     "metadata": {},
     "output_type": "execute_result"
    }
   ],
   "execution_count": 4
  },
  {
   "metadata": {},
   "cell_type": "markdown",
   "source": "Перед нами классическая задача классификации. Хотим угадать рейтинг от 1 до 5. Давайте преобразуем наши данные удалив пунктуацию и приводя к нижнему регистру",
   "id": "d6d6342a515cd27c"
  },
  {
   "metadata": {
    "ExecuteTime": {
     "end_time": "2024-05-08T08:54:10.121331Z",
     "start_time": "2024-05-08T08:54:09.884488Z"
    }
   },
   "cell_type": "code",
   "source": [
    "from nltk.stem.porter import *\n",
    "\n",
    "\n",
    "def preprocess_text(text):\n",
    "    text = str(text)\n",
    "    text = re.sub(r\"[^\\w\\s]\", \" \", text.lower()).split()\n",
    "    return \" \".join(text)\n",
    "\n",
    "\n",
    "df['preprocessed_text'] = df['text'].apply(preprocess_text)\n",
    "df.head()"
   ],
   "id": "87f59f9f0506902d",
   "outputs": [
    {
     "data": {
      "text/plain": [
       "   rating                                               text  \\\n",
       "0       3  Ok We used this airline to go from Singapore t...   \n",
       "1       5  The service in Suites Class makes one feel lik...   \n",
       "2       1  Don’t give them your money Booked, paid and re...   \n",
       "3       5  Best Airline in the World Best airline in the ...   \n",
       "4       2  Premium Economy Seating on Singapore Airlines ...   \n",
       "\n",
       "                                   preprocessed_text  \n",
       "0  ok we used this airline to go from singapore t...  \n",
       "1  the service in suites class makes one feel lik...  \n",
       "2  don t give them your money booked paid and rec...  \n",
       "3  best airline in the world best airline in the ...  \n",
       "4  premium economy seating on singapore airlines ...  "
      ],
      "text/html": [
       "<div>\n",
       "<style scoped>\n",
       "    .dataframe tbody tr th:only-of-type {\n",
       "        vertical-align: middle;\n",
       "    }\n",
       "\n",
       "    .dataframe tbody tr th {\n",
       "        vertical-align: top;\n",
       "    }\n",
       "\n",
       "    .dataframe thead th {\n",
       "        text-align: right;\n",
       "    }\n",
       "</style>\n",
       "<table border=\"1\" class=\"dataframe\">\n",
       "  <thead>\n",
       "    <tr style=\"text-align: right;\">\n",
       "      <th></th>\n",
       "      <th>rating</th>\n",
       "      <th>text</th>\n",
       "      <th>preprocessed_text</th>\n",
       "    </tr>\n",
       "  </thead>\n",
       "  <tbody>\n",
       "    <tr>\n",
       "      <th>0</th>\n",
       "      <td>3</td>\n",
       "      <td>Ok We used this airline to go from Singapore t...</td>\n",
       "      <td>ok we used this airline to go from singapore t...</td>\n",
       "    </tr>\n",
       "    <tr>\n",
       "      <th>1</th>\n",
       "      <td>5</td>\n",
       "      <td>The service in Suites Class makes one feel lik...</td>\n",
       "      <td>the service in suites class makes one feel lik...</td>\n",
       "    </tr>\n",
       "    <tr>\n",
       "      <th>2</th>\n",
       "      <td>1</td>\n",
       "      <td>Don’t give them your money Booked, paid and re...</td>\n",
       "      <td>don t give them your money booked paid and rec...</td>\n",
       "    </tr>\n",
       "    <tr>\n",
       "      <th>3</th>\n",
       "      <td>5</td>\n",
       "      <td>Best Airline in the World Best airline in the ...</td>\n",
       "      <td>best airline in the world best airline in the ...</td>\n",
       "    </tr>\n",
       "    <tr>\n",
       "      <th>4</th>\n",
       "      <td>2</td>\n",
       "      <td>Premium Economy Seating on Singapore Airlines ...</td>\n",
       "      <td>premium economy seating on singapore airlines ...</td>\n",
       "    </tr>\n",
       "  </tbody>\n",
       "</table>\n",
       "</div>"
      ]
     },
     "execution_count": 5,
     "metadata": {},
     "output_type": "execute_result"
    }
   ],
   "execution_count": 5
  },
  {
   "metadata": {
    "ExecuteTime": {
     "end_time": "2024-05-08T08:54:11.653076Z",
     "start_time": "2024-05-08T08:54:10.675076Z"
    }
   },
   "cell_type": "code",
   "source": [
    "x_train, x_test, y_train, y_test = train_test_split(df['preprocessed_text'], df['rating'], train_size=0.8)\n",
    "\n",
    "bow = CountVectorizer()\n",
    "x_test = bow.fit_transform(x_test).toarray()\n",
    "x_train = bow.transform(x_train).toarray()\n",
    "x_train.shape, x_test.shape, y_train.shape, y_test.shape"
   ],
   "id": "b2387c1929bc5cb8",
   "outputs": [
    {
     "data": {
      "text/plain": [
       "((8000, 9220), (2000, 9220), (8000,), (2000,))"
      ]
     },
     "execution_count": 6,
     "metadata": {},
     "output_type": "execute_result"
    }
   ],
   "execution_count": 6
  },
  {
   "metadata": {
    "ExecuteTime": {
     "end_time": "2024-05-08T08:54:26.193696Z",
     "start_time": "2024-05-08T08:54:13.886782Z"
    }
   },
   "cell_type": "code",
   "source": [
    "model = LogisticRegression()\n",
    "model.fit(x_train, y_train)\n",
    "y_pred = model.predict(x_test)\n",
    "f1_score(y_test, y_pred, average='micro')"
   ],
   "id": "75cd1ac54f929a8f",
   "outputs": [
    {
     "name": "stderr",
     "output_type": "stream",
     "text": [
      "/home/gabik/anaconda3/envs/hse_ml_course_2024/lib/python3.8/site-packages/sklearn/linear_model/_logistic.py:460: ConvergenceWarning: lbfgs failed to converge (status=1):\n",
      "STOP: TOTAL NO. of ITERATIONS REACHED LIMIT.\n",
      "\n",
      "Increase the number of iterations (max_iter) or scale the data as shown in:\n",
      "    https://scikit-learn.org/stable/modules/preprocessing.html\n",
      "Please also refer to the documentation for alternative solver options:\n",
      "    https://scikit-learn.org/stable/modules/linear_model.html#logistic-regression\n",
      "  n_iter_i = _check_optimize_result(\n"
     ]
    },
    {
     "data": {
      "text/plain": [
       "0.664"
      ]
     },
     "execution_count": 7,
     "metadata": {},
     "output_type": "execute_result"
    }
   ],
   "execution_count": 7
  },
  {
   "metadata": {},
   "cell_type": "markdown",
   "source": [
    "Как можно заметить, модель работает возможно не так, как нам бы хотелось. \n",
    "Давайте попробуем исправить это"
   ],
   "id": "cce3fa0a680fb6b2"
  },
  {
   "metadata": {},
   "cell_type": "markdown",
   "source": "# Normal ",
   "id": "aa6472b259d83aeb"
  },
  {
   "metadata": {
    "ExecuteTime": {
     "end_time": "2024-05-08T08:54:30.553705Z",
     "start_time": "2024-05-08T08:54:30.115117Z"
    }
   },
   "cell_type": "code",
   "source": [
    "import nltk\n",
    "from nltk.corpus import stopwords\n",
    "\n",
    "nltk.download('stopwords')\n",
    "nltk.download('punkt')\n",
    "nltk.download('wordnet')\n",
    "\n",
    "stop_words = set(stopwords.words('english'))"
   ],
   "id": "e7e7188bafa5650e",
   "outputs": [
    {
     "name": "stderr",
     "output_type": "stream",
     "text": [
      "[nltk_data] Downloading package stopwords to /home/gabik/nltk_data...\n",
      "[nltk_data]   Package stopwords is already up-to-date!\n",
      "[nltk_data] Downloading package punkt to /home/gabik/nltk_data...\n",
      "[nltk_data]   Package punkt is already up-to-date!\n",
      "[nltk_data] Downloading package wordnet to /home/gabik/nltk_data...\n",
      "[nltk_data]   Package wordnet is already up-to-date!\n"
     ]
    }
   ],
   "execution_count": 8
  },
  {
   "metadata": {},
   "cell_type": "markdown",
   "source": "Давайте попробуем добавить лемматизацию и будем удалять стоп-слова, которые достали выше",
   "id": "d6ce9a52b3195c65"
  },
  {
   "metadata": {
    "ExecuteTime": {
     "end_time": "2024-05-08T08:54:35.745540Z",
     "start_time": "2024-05-08T08:54:32.327072Z"
    }
   },
   "cell_type": "code",
   "source": [
    "stemmer = PorterStemmer()\n",
    "\n",
    "\n",
    "def preprocess_text(text):\n",
    "    text = str(text)\n",
    "    lm = WordNetLemmatizer()\n",
    "    text = re.sub(r\"[^\\w\\s]\", \" \", text.lower()).split()\n",
    "    text = \" \".join([lm.lemmatize(word) for word in text if word not in stop_words])\n",
    "    return text\n",
    "\n",
    "\n",
    "df = df_start[['rating']].copy()\n",
    "df['raw_text'] = (df_start[[\"title\"]].squeeze() + \" \" + df_start[[\"text\"]].squeeze())\n",
    "df['preprocessed_text'] = df['raw_text'].apply(preprocess_text)\n",
    "df.head()"
   ],
   "id": "cef2ba97815a62c",
   "outputs": [
    {
     "data": {
      "text/plain": [
       "   rating                                           raw_text  \\\n",
       "0       3  Ok We used this airline to go from Singapore t...   \n",
       "1       5  The service in Suites Class makes one feel lik...   \n",
       "2       1  Don’t give them your money Booked, paid and re...   \n",
       "3       5  Best Airline in the World Best airline in the ...   \n",
       "4       2  Premium Economy Seating on Singapore Airlines ...   \n",
       "\n",
       "                                   preprocessed_text  \n",
       "0  ok used airline go singapore london heathrow i...  \n",
       "1  service suite class make one feel like vip ser...  \n",
       "2  give money booked paid received email confirma...  \n",
       "3  best airline world best airline world seat foo...  \n",
       "4  premium economy seating singapore airline wort...  "
      ],
      "text/html": [
       "<div>\n",
       "<style scoped>\n",
       "    .dataframe tbody tr th:only-of-type {\n",
       "        vertical-align: middle;\n",
       "    }\n",
       "\n",
       "    .dataframe tbody tr th {\n",
       "        vertical-align: top;\n",
       "    }\n",
       "\n",
       "    .dataframe thead th {\n",
       "        text-align: right;\n",
       "    }\n",
       "</style>\n",
       "<table border=\"1\" class=\"dataframe\">\n",
       "  <thead>\n",
       "    <tr style=\"text-align: right;\">\n",
       "      <th></th>\n",
       "      <th>rating</th>\n",
       "      <th>raw_text</th>\n",
       "      <th>preprocessed_text</th>\n",
       "    </tr>\n",
       "  </thead>\n",
       "  <tbody>\n",
       "    <tr>\n",
       "      <th>0</th>\n",
       "      <td>3</td>\n",
       "      <td>Ok We used this airline to go from Singapore t...</td>\n",
       "      <td>ok used airline go singapore london heathrow i...</td>\n",
       "    </tr>\n",
       "    <tr>\n",
       "      <th>1</th>\n",
       "      <td>5</td>\n",
       "      <td>The service in Suites Class makes one feel lik...</td>\n",
       "      <td>service suite class make one feel like vip ser...</td>\n",
       "    </tr>\n",
       "    <tr>\n",
       "      <th>2</th>\n",
       "      <td>1</td>\n",
       "      <td>Don’t give them your money Booked, paid and re...</td>\n",
       "      <td>give money booked paid received email confirma...</td>\n",
       "    </tr>\n",
       "    <tr>\n",
       "      <th>3</th>\n",
       "      <td>5</td>\n",
       "      <td>Best Airline in the World Best airline in the ...</td>\n",
       "      <td>best airline world best airline world seat foo...</td>\n",
       "    </tr>\n",
       "    <tr>\n",
       "      <th>4</th>\n",
       "      <td>2</td>\n",
       "      <td>Premium Economy Seating on Singapore Airlines ...</td>\n",
       "      <td>premium economy seating singapore airline wort...</td>\n",
       "    </tr>\n",
       "  </tbody>\n",
       "</table>\n",
       "</div>"
      ]
     },
     "execution_count": 9,
     "metadata": {},
     "output_type": "execute_result"
    }
   ],
   "execution_count": 9
  },
  {
   "metadata": {},
   "cell_type": "markdown",
   "source": "Убедившись, что стоп-слава действительно удалены и текст обработан как мы хотим, посмотрим как теперь будет работать наша модель",
   "id": "2319932d56bfaa4d"
  },
  {
   "metadata": {
    "ExecuteTime": {
     "end_time": "2024-05-08T08:54:39.033219Z",
     "start_time": "2024-05-08T08:54:38.989255Z"
    }
   },
   "cell_type": "code",
   "source": [
    "x_train, x_test, y_train, y_test = train_test_split(df['preprocessed_text'], df['rating'], train_size=0.8)\n",
    "\n",
    "x_train.shape, x_test.shape, y_train.shape, y_test.shape"
   ],
   "id": "c069a1ac6039ce87",
   "outputs": [
    {
     "data": {
      "text/plain": [
       "((8000,), (2000,), (8000,), (2000,))"
      ]
     },
     "execution_count": 10,
     "metadata": {},
     "output_type": "execute_result"
    }
   ],
   "execution_count": 10
  },
  {
   "metadata": {
    "ExecuteTime": {
     "end_time": "2024-05-08T08:59:00.691931Z",
     "start_time": "2024-05-08T08:54:46.869346Z"
    }
   },
   "cell_type": "code",
   "source": [
    "fit_results = []\n",
    "\n",
    "# Перебираем модели и векторизацию\n",
    "models = {\"LogisticRegression\": LogisticRegression(),\n",
    "          \"RandomForestClassifier\": RandomForestClassifier(),\n",
    "          \"SVC(kernel='linear')\": SVC(kernel='linear'),\n",
    "          \"SVC(kernel='poly')\": SVC(kernel='poly'),\n",
    "          \"SVC(kernel='rbf')\": SVC(kernel='rbf')}\n",
    "\n",
    "# Перебираем модели и векторизацию\n",
    "for vect in [CountVectorizer(), TfidfVectorizer()]:\n",
    "    for name, model in models.items():\n",
    "        pipeline = Pipeline(\n",
    "            [\n",
    "                (\"vect\", vect),\n",
    "                (\"model\", model),\n",
    "            ]\n",
    "        )\n",
    "        pipeline.fit(x_train, y_train)\n",
    "        y_pred = pipeline.predict(x_test)\n",
    "        metric = f1_score(y_test, y_pred, average='micro')\n",
    "        fit_results.append(\n",
    "            {\n",
    "                'vect': vect.__class__.__name__,\n",
    "                'model': name,\n",
    "                'f1': metric,\n",
    "            }\n",
    "        )\n",
    "\n",
    "fit_results = pd.DataFrame(fit_results).sort_values('f1', ascending=False)\n",
    "fit_results"
   ],
   "id": "66a59d1a13e75a4b",
   "outputs": [
    {
     "name": "stderr",
     "output_type": "stream",
     "text": [
      "/home/gabik/anaconda3/envs/hse_ml_course_2024/lib/python3.8/site-packages/sklearn/linear_model/_logistic.py:460: ConvergenceWarning: lbfgs failed to converge (status=1):\n",
      "STOP: TOTAL NO. of ITERATIONS REACHED LIMIT.\n",
      "\n",
      "Increase the number of iterations (max_iter) or scale the data as shown in:\n",
      "    https://scikit-learn.org/stable/modules/preprocessing.html\n",
      "Please also refer to the documentation for alternative solver options:\n",
      "    https://scikit-learn.org/stable/modules/linear_model.html#logistic-regression\n",
      "  n_iter_i = _check_optimize_result(\n",
      "/home/gabik/anaconda3/envs/hse_ml_course_2024/lib/python3.8/site-packages/sklearn/linear_model/_logistic.py:460: ConvergenceWarning: lbfgs failed to converge (status=1):\n",
      "STOP: TOTAL NO. of ITERATIONS REACHED LIMIT.\n",
      "\n",
      "Increase the number of iterations (max_iter) or scale the data as shown in:\n",
      "    https://scikit-learn.org/stable/modules/preprocessing.html\n",
      "Please also refer to the documentation for alternative solver options:\n",
      "    https://scikit-learn.org/stable/modules/linear_model.html#logistic-regression\n",
      "  n_iter_i = _check_optimize_result(\n"
     ]
    },
    {
     "data": {
      "text/plain": [
       "              vect                   model      f1\n",
       "7  TfidfVectorizer    SVC(kernel='linear')  0.6915\n",
       "5  TfidfVectorizer      LogisticRegression  0.6835\n",
       "9  TfidfVectorizer       SVC(kernel='rbf')  0.6820\n",
       "4  CountVectorizer       SVC(kernel='rbf')  0.6665\n",
       "0  CountVectorizer      LogisticRegression  0.6600\n",
       "2  CountVectorizer    SVC(kernel='linear')  0.6305\n",
       "1  CountVectorizer  RandomForestClassifier  0.6270\n",
       "6  TfidfVectorizer  RandomForestClassifier  0.6270\n",
       "3  CountVectorizer      SVC(kernel='poly')  0.5720\n",
       "8  TfidfVectorizer      SVC(kernel='poly')  0.5510"
      ],
      "text/html": [
       "<div>\n",
       "<style scoped>\n",
       "    .dataframe tbody tr th:only-of-type {\n",
       "        vertical-align: middle;\n",
       "    }\n",
       "\n",
       "    .dataframe tbody tr th {\n",
       "        vertical-align: top;\n",
       "    }\n",
       "\n",
       "    .dataframe thead th {\n",
       "        text-align: right;\n",
       "    }\n",
       "</style>\n",
       "<table border=\"1\" class=\"dataframe\">\n",
       "  <thead>\n",
       "    <tr style=\"text-align: right;\">\n",
       "      <th></th>\n",
       "      <th>vect</th>\n",
       "      <th>model</th>\n",
       "      <th>f1</th>\n",
       "    </tr>\n",
       "  </thead>\n",
       "  <tbody>\n",
       "    <tr>\n",
       "      <th>7</th>\n",
       "      <td>TfidfVectorizer</td>\n",
       "      <td>SVC(kernel='linear')</td>\n",
       "      <td>0.6915</td>\n",
       "    </tr>\n",
       "    <tr>\n",
       "      <th>5</th>\n",
       "      <td>TfidfVectorizer</td>\n",
       "      <td>LogisticRegression</td>\n",
       "      <td>0.6835</td>\n",
       "    </tr>\n",
       "    <tr>\n",
       "      <th>9</th>\n",
       "      <td>TfidfVectorizer</td>\n",
       "      <td>SVC(kernel='rbf')</td>\n",
       "      <td>0.6820</td>\n",
       "    </tr>\n",
       "    <tr>\n",
       "      <th>4</th>\n",
       "      <td>CountVectorizer</td>\n",
       "      <td>SVC(kernel='rbf')</td>\n",
       "      <td>0.6665</td>\n",
       "    </tr>\n",
       "    <tr>\n",
       "      <th>0</th>\n",
       "      <td>CountVectorizer</td>\n",
       "      <td>LogisticRegression</td>\n",
       "      <td>0.6600</td>\n",
       "    </tr>\n",
       "    <tr>\n",
       "      <th>2</th>\n",
       "      <td>CountVectorizer</td>\n",
       "      <td>SVC(kernel='linear')</td>\n",
       "      <td>0.6305</td>\n",
       "    </tr>\n",
       "    <tr>\n",
       "      <th>1</th>\n",
       "      <td>CountVectorizer</td>\n",
       "      <td>RandomForestClassifier</td>\n",
       "      <td>0.6270</td>\n",
       "    </tr>\n",
       "    <tr>\n",
       "      <th>6</th>\n",
       "      <td>TfidfVectorizer</td>\n",
       "      <td>RandomForestClassifier</td>\n",
       "      <td>0.6270</td>\n",
       "    </tr>\n",
       "    <tr>\n",
       "      <th>3</th>\n",
       "      <td>CountVectorizer</td>\n",
       "      <td>SVC(kernel='poly')</td>\n",
       "      <td>0.5720</td>\n",
       "    </tr>\n",
       "    <tr>\n",
       "      <th>8</th>\n",
       "      <td>TfidfVectorizer</td>\n",
       "      <td>SVC(kernel='poly')</td>\n",
       "      <td>0.5510</td>\n",
       "    </tr>\n",
       "  </tbody>\n",
       "</table>\n",
       "</div>"
      ]
     },
     "execution_count": 11,
     "metadata": {},
     "output_type": "execute_result"
    }
   ],
   "execution_count": 11
  },
  {
   "metadata": {},
   "cell_type": "markdown",
   "source": [
    "После наших изменений исходная модель стала работать даже чуточку хуже :)\n",
    "\n",
    "Но все же SVC показала нам невероятные результаты, так что давайте посмотрим как будет работать наша лучшая модель на своем примере"
   ],
   "id": "3d260d7bcd8ca916"
  },
  {
   "metadata": {
    "ExecuteTime": {
     "end_time": "2024-05-08T08:59:47.417421Z",
     "start_time": "2024-05-08T08:59:25.488031Z"
    }
   },
   "cell_type": "code",
   "source": [
    "model = SVC(kernel='linear')\n",
    "bow = TfidfVectorizer()\n",
    "bow_result_train = bow.fit_transform(x_train)\n",
    "\n",
    "model.fit(bow_result_train, y_train)"
   ],
   "id": "d4d84107ac24787d",
   "outputs": [
    {
     "data": {
      "text/plain": [
       "SVC(kernel='linear')"
      ],
      "text/html": [
       "<style>#sk-container-id-1 {color: black;}#sk-container-id-1 pre{padding: 0;}#sk-container-id-1 div.sk-toggleable {background-color: white;}#sk-container-id-1 label.sk-toggleable__label {cursor: pointer;display: block;width: 100%;margin-bottom: 0;padding: 0.3em;box-sizing: border-box;text-align: center;}#sk-container-id-1 label.sk-toggleable__label-arrow:before {content: \"▸\";float: left;margin-right: 0.25em;color: #696969;}#sk-container-id-1 label.sk-toggleable__label-arrow:hover:before {color: black;}#sk-container-id-1 div.sk-estimator:hover label.sk-toggleable__label-arrow:before {color: black;}#sk-container-id-1 div.sk-toggleable__content {max-height: 0;max-width: 0;overflow: hidden;text-align: left;background-color: #f0f8ff;}#sk-container-id-1 div.sk-toggleable__content pre {margin: 0.2em;color: black;border-radius: 0.25em;background-color: #f0f8ff;}#sk-container-id-1 input.sk-toggleable__control:checked~div.sk-toggleable__content {max-height: 200px;max-width: 100%;overflow: auto;}#sk-container-id-1 input.sk-toggleable__control:checked~label.sk-toggleable__label-arrow:before {content: \"▾\";}#sk-container-id-1 div.sk-estimator input.sk-toggleable__control:checked~label.sk-toggleable__label {background-color: #d4ebff;}#sk-container-id-1 div.sk-label input.sk-toggleable__control:checked~label.sk-toggleable__label {background-color: #d4ebff;}#sk-container-id-1 input.sk-hidden--visually {border: 0;clip: rect(1px 1px 1px 1px);clip: rect(1px, 1px, 1px, 1px);height: 1px;margin: -1px;overflow: hidden;padding: 0;position: absolute;width: 1px;}#sk-container-id-1 div.sk-estimator {font-family: monospace;background-color: #f0f8ff;border: 1px dotted black;border-radius: 0.25em;box-sizing: border-box;margin-bottom: 0.5em;}#sk-container-id-1 div.sk-estimator:hover {background-color: #d4ebff;}#sk-container-id-1 div.sk-parallel-item::after {content: \"\";width: 100%;border-bottom: 1px solid gray;flex-grow: 1;}#sk-container-id-1 div.sk-label:hover label.sk-toggleable__label {background-color: #d4ebff;}#sk-container-id-1 div.sk-serial::before {content: \"\";position: absolute;border-left: 1px solid gray;box-sizing: border-box;top: 0;bottom: 0;left: 50%;z-index: 0;}#sk-container-id-1 div.sk-serial {display: flex;flex-direction: column;align-items: center;background-color: white;padding-right: 0.2em;padding-left: 0.2em;position: relative;}#sk-container-id-1 div.sk-item {position: relative;z-index: 1;}#sk-container-id-1 div.sk-parallel {display: flex;align-items: stretch;justify-content: center;background-color: white;position: relative;}#sk-container-id-1 div.sk-item::before, #sk-container-id-1 div.sk-parallel-item::before {content: \"\";position: absolute;border-left: 1px solid gray;box-sizing: border-box;top: 0;bottom: 0;left: 50%;z-index: -1;}#sk-container-id-1 div.sk-parallel-item {display: flex;flex-direction: column;z-index: 1;position: relative;background-color: white;}#sk-container-id-1 div.sk-parallel-item:first-child::after {align-self: flex-end;width: 50%;}#sk-container-id-1 div.sk-parallel-item:last-child::after {align-self: flex-start;width: 50%;}#sk-container-id-1 div.sk-parallel-item:only-child::after {width: 0;}#sk-container-id-1 div.sk-dashed-wrapped {border: 1px dashed gray;margin: 0 0.4em 0.5em 0.4em;box-sizing: border-box;padding-bottom: 0.4em;background-color: white;}#sk-container-id-1 div.sk-label label {font-family: monospace;font-weight: bold;display: inline-block;line-height: 1.2em;}#sk-container-id-1 div.sk-label-container {text-align: center;}#sk-container-id-1 div.sk-container {/* jupyter's `normalize.less` sets `[hidden] { display: none; }` but bootstrap.min.css set `[hidden] { display: none !important; }` so we also need the `!important` here to be able to override the default hidden behavior on the sphinx rendered scikit-learn.org. See: https://github.com/scikit-learn/scikit-learn/issues/21755 */display: inline-block !important;position: relative;}#sk-container-id-1 div.sk-text-repr-fallback {display: none;}</style><div id=\"sk-container-id-1\" class=\"sk-top-container\"><div class=\"sk-text-repr-fallback\"><pre>SVC(kernel=&#x27;linear&#x27;)</pre><b>In a Jupyter environment, please rerun this cell to show the HTML representation or trust the notebook. <br />On GitHub, the HTML representation is unable to render, please try loading this page with nbviewer.org.</b></div><div class=\"sk-container\" hidden><div class=\"sk-item\"><div class=\"sk-estimator sk-toggleable\"><input class=\"sk-toggleable__control sk-hidden--visually\" id=\"sk-estimator-id-1\" type=\"checkbox\" checked><label for=\"sk-estimator-id-1\" class=\"sk-toggleable__label sk-toggleable__label-arrow\">SVC</label><div class=\"sk-toggleable__content\"><pre>SVC(kernel=&#x27;linear&#x27;)</pre></div></div></div></div></div>"
      ]
     },
     "execution_count": 12,
     "metadata": {},
     "output_type": "execute_result"
    }
   ],
   "execution_count": 12
  },
  {
   "metadata": {
    "ExecuteTime": {
     "end_time": "2024-05-08T08:59:54.557987Z",
     "start_time": "2024-05-08T08:59:54.542779Z"
    }
   },
   "cell_type": "code",
   "source": [
    "good_review = \"Gorgeous I used the airline to fly from Russia to America. The children were delighted! We were fed very tasty and even danced at the request of my husband\"\n",
    "bad_review = \"The worst flight in my life. The children seemed to be screaming from all sides. My brand-new apple noise-canceling headphones didn't save me.\"\n",
    "reviews = pd.Series([preprocess_text(good_review), preprocess_text(bad_review)])\n",
    "transformed = bow.transform(reviews).toarray()\n",
    "model.predict(transformed)"
   ],
   "id": "12eeec7d6c7ce99a",
   "outputs": [
    {
     "data": {
      "text/plain": [
       "array([5, 4])"
      ]
     },
     "execution_count": 13,
     "metadata": {},
     "output_type": "execute_result"
    }
   ],
   "execution_count": 13
  },
  {
   "metadata": {},
   "cell_type": "markdown",
   "source": "Получили неправильную оценку для плохого отзыва, хотя я и старался написать его с ключевыми казалось бы словами (причем для разных запусков модель иногда отгадывала что отзыв плохой. Наверно это связано с тем, что у нас мало плохих отзывов) ",
   "id": "259b157315f5b271"
  }
 ],
 "metadata": {
  "kernelspec": {
   "display_name": "Python 3",
   "language": "python",
   "name": "python3"
  },
  "language_info": {
   "codemirror_mode": {
    "name": "ipython",
    "version": 2
   },
   "file_extension": ".py",
   "mimetype": "text/x-python",
   "name": "python",
   "nbconvert_exporter": "python",
   "pygments_lexer": "ipython2",
   "version": "2.7.6"
  }
 },
 "nbformat": 4,
 "nbformat_minor": 5
}
