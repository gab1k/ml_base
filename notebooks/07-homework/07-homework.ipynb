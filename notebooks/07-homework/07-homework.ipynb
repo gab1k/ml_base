{
 "cells": [
  {
   "metadata": {},
   "cell_type": "markdown",
   "source": "# EASY",
   "id": "b6ee7ed7e76e0bff"
  },
  {
   "metadata": {},
   "cell_type": "markdown",
   "source": "Добавим файл data.csv с 3 строчками, чтобы протестировать передачу --data в predict",
   "id": "5324158888bb7d6"
  },
  {
   "metadata": {
    "ExecuteTime": {
     "end_time": "2024-05-24T16:03:19.437823Z",
     "start_time": "2024-05-24T16:03:18.245838Z"
    }
   },
   "cell_type": "code",
   "source": [
    "from tests import preprocess, get_correct_df\n",
    "preprocess(\"data.csv\", \"model.pkl\", get_correct_df(is_train=False))"
   ],
   "id": "4b351007767edb72",
   "outputs": [],
   "execution_count": 1
  },
  {
   "metadata": {},
   "cell_type": "markdown",
   "source": "Создадим модель со сплитом",
   "id": "8ad77aefcd8c2354"
  },
  {
   "cell_type": "code",
   "id": "initial_id",
   "metadata": {
    "collapsed": true,
    "ExecuteTime": {
     "end_time": "2024-05-24T16:03:53.771481Z",
     "start_time": "2024-05-24T16:03:19.439871Z"
    }
   },
   "source": "! python main.py train --data ../../data/singapore_airlines_reviews.csv --model model.pkl --split 0.2",
   "outputs": [
    {
     "name": "stdout",
     "output_type": "stream",
     "text": [
      "F1 score on test: 0.6795\r\n",
      "Tests values is: [4 5 2 ... 5 3 5]\r\n"
     ]
    }
   ],
   "execution_count": 2
  },
  {
   "metadata": {},
   "cell_type": "markdown",
   "source": "Сделаем predict по тексту",
   "id": "d1d40b4d1f71f533"
  },
  {
   "metadata": {
    "ExecuteTime": {
     "end_time": "2024-05-24T16:03:56.499032Z",
     "start_time": "2024-05-24T16:03:53.776515Z"
    }
   },
   "cell_type": "code",
   "source": "! python main.py predict --model model.pkl --data \"very bad\"",
   "id": "a5db59e5d8e23427",
   "outputs": [
    {
     "name": "stdout",
     "output_type": "stream",
     "text": [
      "[1]\r\n"
     ]
    }
   ],
   "execution_count": 3
  },
  {
   "metadata": {},
   "cell_type": "markdown",
   "source": "Сделаем новую модель без сплита",
   "id": "6f08e54ff1e81e36"
  },
  {
   "metadata": {
    "ExecuteTime": {
     "end_time": "2024-05-24T16:04:38.533499Z",
     "start_time": "2024-05-24T16:03:56.508218Z"
    }
   },
   "cell_type": "code",
   "source": "! python main.py train --data ../../data/singapore_airlines_reviews.csv --model model.pkl",
   "id": "8344d1b1450fe31d",
   "outputs": [],
   "execution_count": 4
  },
  {
   "metadata": {},
   "cell_type": "markdown",
   "source": "Сделаем predict по другому тексту",
   "id": "f7a87a6e2eebf759"
  },
  {
   "metadata": {
    "ExecuteTime": {
     "end_time": "2024-05-24T16:04:41.259642Z",
     "start_time": "2024-05-24T16:04:38.535258Z"
    }
   },
   "cell_type": "code",
   "source": "! python main.py predict --model model.pkl --data \"very good\"",
   "id": "811cdbe420488b80",
   "outputs": [
    {
     "name": "stdout",
     "output_type": "stream",
     "text": [
      "[4]\r\n"
     ]
    }
   ],
   "execution_count": 5
  },
  {
   "metadata": {},
   "cell_type": "markdown",
   "source": "Сделаем predict по data.csv, который добавили вначале",
   "id": "e537ce78777c1f2e"
  },
  {
   "metadata": {
    "ExecuteTime": {
     "end_time": "2024-05-24T16:04:43.982893Z",
     "start_time": "2024-05-24T16:04:41.261106Z"
    }
   },
   "cell_type": "code",
   "source": "! python main.py predict --model model.pkl --data data.csv",
   "id": "531721f0e9c5f572",
   "outputs": [
    {
     "name": "stdout",
     "output_type": "stream",
     "text": [
      "3\r\n",
      "5\r\n",
      "1\r\n"
     ]
    }
   ],
   "execution_count": 6
  },
  {
   "metadata": {},
   "cell_type": "markdown",
   "source": "Ещё раз обучимся без сплита, тестовые данные возьмем сгенерированные вначале, только с колонкой rating (ожидаемый результат 4, 5, 1)",
   "id": "2ddd0de3a99d5619"
  },
  {
   "metadata": {
    "ExecuteTime": {
     "end_time": "2024-05-24T16:04:43.993280Z",
     "start_time": "2024-05-24T16:04:43.984436Z"
    }
   },
   "cell_type": "code",
   "source": "preprocess(\"data.csv\", \"model.pkl\", get_correct_df(is_train=True))",
   "id": "54192c296c40680a",
   "outputs": [],
   "execution_count": 7
  },
  {
   "metadata": {
    "ExecuteTime": {
     "end_time": "2024-05-24T16:05:24.244919Z",
     "start_time": "2024-05-24T16:04:43.994884Z"
    }
   },
   "cell_type": "code",
   "source": "! python main.py train --data ../../data/singapore_airlines_reviews.csv --model model.pkl --test data.csv",
   "id": "d517b91f59a94abc",
   "outputs": [
    {
     "name": "stdout",
     "output_type": "stream",
     "text": [
      "F1 score on test: 0.6666666666666666\r\n",
      "Tests values is: [3 5 1]\r\n"
     ]
    }
   ],
   "execution_count": 8
  },
  {
   "metadata": {},
   "cell_type": "markdown",
   "source": "# MEDIUM",
   "id": "ec521b0e5c75185f"
  },
  {
   "metadata": {
    "ExecuteTime": {
     "end_time": "2024-05-24T16:05:27.306286Z",
     "start_time": "2024-05-24T16:05:24.250368Z"
    }
   },
   "cell_type": "code",
   "source": "! pytest tests.py",
   "id": "e36a451ca28e72d4",
   "outputs": [
    {
     "name": "stdout",
     "output_type": "stream",
     "text": [
      "\u001B[1m============================= test session starts ==============================\u001B[0m\r\n",
      "platform linux -- Python 3.8.18, pytest-7.4.0, pluggy-1.0.0\r\n",
      "rootdir: /home/gabik/PycharmProjects/ml_base/notebooks/07-homework\r\n",
      "plugins: anyio-4.2.0\r\n",
      "collected 6 items                                                              \u001B[0m\u001B[1m\r\n",
      "\r\n",
      "tests.py \u001B[32m.\u001B[0m\u001B[32m.\u001B[0m\u001B[32m.\u001B[0m\u001B[32m.\u001B[0m\u001B[32m.\u001B[0m\u001B[32m.\u001B[0m\u001B[32m                                                          [100%]\u001B[0m\r\n",
      "\r\n",
      "\u001B[32m============================== \u001B[32m\u001B[1m6 passed\u001B[0m\u001B[32m in 2.07s\u001B[0m\u001B[32m ===============================\u001B[0m\r\n"
     ]
    }
   ],
   "execution_count": 9
  },
  {
   "metadata": {},
   "cell_type": "markdown",
   "source": "В каждом из тестов, где это было необходимо, создавался маленький датасет (3 строчки) и модель обучалась на нем. После каждого из тестов я чистил все файлики, которые создавались. В местах, где ожидались ошибки стоит ```assert False``` сразу после вызова функции. Иначе, он стоит в блоке ```except```",
   "id": "886609979118d55b"
  }
 ],
 "metadata": {
  "kernelspec": {
   "display_name": "Python 3",
   "language": "python",
   "name": "python3"
  },
  "language_info": {
   "codemirror_mode": {
    "name": "ipython",
    "version": 2
   },
   "file_extension": ".py",
   "mimetype": "text/x-python",
   "name": "python",
   "nbconvert_exporter": "python",
   "pygments_lexer": "ipython2",
   "version": "2.7.6"
  }
 },
 "nbformat": 4,
 "nbformat_minor": 5
}
