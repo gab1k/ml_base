{
 "cells": [
  {
   "cell_type": "markdown",
   "source": [
    "# EASY"
   ],
   "metadata": {
    "collapsed": false
   },
   "id": "1b8d34876419729a"
  },
  {
   "cell_type": "code",
   "outputs": [],
   "source": [
    "from sklearn.model_selection import train_test_split\n",
    "from sklearn.tree import DecisionTreeRegressor\n",
    "from sklearn.model_selection import GridSearchCV\n",
    "\n",
    "from sklearn.metrics import r2_score\n",
    "from sklearn.preprocessing import LabelEncoder\n",
    "\n",
    "import pandas as pd"
   ],
   "metadata": {
    "collapsed": false,
    "ExecuteTime": {
     "end_time": "2024-03-29T08:50:03.699192Z",
     "start_time": "2024-03-29T08:50:02.465094Z"
    }
   },
   "id": "aafe03a47a26d9cc",
   "execution_count": 1
  },
  {
   "cell_type": "code",
   "execution_count": 2,
   "id": "initial_id",
   "metadata": {
    "collapsed": true,
    "ExecuteTime": {
     "end_time": "2024-03-29T08:50:03.717965Z",
     "start_time": "2024-03-29T08:50:03.700556Z"
    }
   },
   "outputs": [
    {
     "data": {
      "text/plain": "model            object\nyear              int64\nprice             int64\ntransmission     object\nmileage           int64\nfuelType         object\ntax               int64\nmpg             float64\nengineSize      float64\ndtype: object"
     },
     "execution_count": 2,
     "metadata": {},
     "output_type": "execute_result"
    }
   ],
   "source": [
    "df_bmw = pd.read_csv(\"../data/audi.csv\")\n",
    "df_bmw.dtypes"
   ]
  },
  {
   "cell_type": "code",
   "outputs": [],
   "source": [
    "num_val = [\"year\", \"mileage\", \"tax\", \"mpg\", \"engineSize\"]\n",
    "df_bmw_clear = df_bmw[num_val]\n",
    "x_train, x_test, y_train, y_test = train_test_split(df_bmw_clear, df_bmw[\"price\"], train_size=0.8)"
   ],
   "metadata": {
    "collapsed": false,
    "ExecuteTime": {
     "end_time": "2024-03-29T08:50:03.725365Z",
     "start_time": "2024-03-29T08:50:03.719093Z"
    }
   },
   "id": "ec35ad679dc2399",
   "execution_count": 3
  },
  {
   "cell_type": "code",
   "outputs": [
    {
     "data": {
      "text/plain": "DecisionTreeRegressor()",
      "text/html": "<style>#sk-container-id-1 {color: black;}#sk-container-id-1 pre{padding: 0;}#sk-container-id-1 div.sk-toggleable {background-color: white;}#sk-container-id-1 label.sk-toggleable__label {cursor: pointer;display: block;width: 100%;margin-bottom: 0;padding: 0.3em;box-sizing: border-box;text-align: center;}#sk-container-id-1 label.sk-toggleable__label-arrow:before {content: \"▸\";float: left;margin-right: 0.25em;color: #696969;}#sk-container-id-1 label.sk-toggleable__label-arrow:hover:before {color: black;}#sk-container-id-1 div.sk-estimator:hover label.sk-toggleable__label-arrow:before {color: black;}#sk-container-id-1 div.sk-toggleable__content {max-height: 0;max-width: 0;overflow: hidden;text-align: left;background-color: #f0f8ff;}#sk-container-id-1 div.sk-toggleable__content pre {margin: 0.2em;color: black;border-radius: 0.25em;background-color: #f0f8ff;}#sk-container-id-1 input.sk-toggleable__control:checked~div.sk-toggleable__content {max-height: 200px;max-width: 100%;overflow: auto;}#sk-container-id-1 input.sk-toggleable__control:checked~label.sk-toggleable__label-arrow:before {content: \"▾\";}#sk-container-id-1 div.sk-estimator input.sk-toggleable__control:checked~label.sk-toggleable__label {background-color: #d4ebff;}#sk-container-id-1 div.sk-label input.sk-toggleable__control:checked~label.sk-toggleable__label {background-color: #d4ebff;}#sk-container-id-1 input.sk-hidden--visually {border: 0;clip: rect(1px 1px 1px 1px);clip: rect(1px, 1px, 1px, 1px);height: 1px;margin: -1px;overflow: hidden;padding: 0;position: absolute;width: 1px;}#sk-container-id-1 div.sk-estimator {font-family: monospace;background-color: #f0f8ff;border: 1px dotted black;border-radius: 0.25em;box-sizing: border-box;margin-bottom: 0.5em;}#sk-container-id-1 div.sk-estimator:hover {background-color: #d4ebff;}#sk-container-id-1 div.sk-parallel-item::after {content: \"\";width: 100%;border-bottom: 1px solid gray;flex-grow: 1;}#sk-container-id-1 div.sk-label:hover label.sk-toggleable__label {background-color: #d4ebff;}#sk-container-id-1 div.sk-serial::before {content: \"\";position: absolute;border-left: 1px solid gray;box-sizing: border-box;top: 0;bottom: 0;left: 50%;z-index: 0;}#sk-container-id-1 div.sk-serial {display: flex;flex-direction: column;align-items: center;background-color: white;padding-right: 0.2em;padding-left: 0.2em;position: relative;}#sk-container-id-1 div.sk-item {position: relative;z-index: 1;}#sk-container-id-1 div.sk-parallel {display: flex;align-items: stretch;justify-content: center;background-color: white;position: relative;}#sk-container-id-1 div.sk-item::before, #sk-container-id-1 div.sk-parallel-item::before {content: \"\";position: absolute;border-left: 1px solid gray;box-sizing: border-box;top: 0;bottom: 0;left: 50%;z-index: -1;}#sk-container-id-1 div.sk-parallel-item {display: flex;flex-direction: column;z-index: 1;position: relative;background-color: white;}#sk-container-id-1 div.sk-parallel-item:first-child::after {align-self: flex-end;width: 50%;}#sk-container-id-1 div.sk-parallel-item:last-child::after {align-self: flex-start;width: 50%;}#sk-container-id-1 div.sk-parallel-item:only-child::after {width: 0;}#sk-container-id-1 div.sk-dashed-wrapped {border: 1px dashed gray;margin: 0 0.4em 0.5em 0.4em;box-sizing: border-box;padding-bottom: 0.4em;background-color: white;}#sk-container-id-1 div.sk-label label {font-family: monospace;font-weight: bold;display: inline-block;line-height: 1.2em;}#sk-container-id-1 div.sk-label-container {text-align: center;}#sk-container-id-1 div.sk-container {/* jupyter's `normalize.less` sets `[hidden] { display: none; }` but bootstrap.min.css set `[hidden] { display: none !important; }` so we also need the `!important` here to be able to override the default hidden behavior on the sphinx rendered scikit-learn.org. See: https://github.com/scikit-learn/scikit-learn/issues/21755 */display: inline-block !important;position: relative;}#sk-container-id-1 div.sk-text-repr-fallback {display: none;}</style><div id=\"sk-container-id-1\" class=\"sk-top-container\"><div class=\"sk-text-repr-fallback\"><pre>DecisionTreeRegressor()</pre><b>In a Jupyter environment, please rerun this cell to show the HTML representation or trust the notebook. <br />On GitHub, the HTML representation is unable to render, please try loading this page with nbviewer.org.</b></div><div class=\"sk-container\" hidden><div class=\"sk-item\"><div class=\"sk-estimator sk-toggleable\"><input class=\"sk-toggleable__control sk-hidden--visually\" id=\"sk-estimator-id-1\" type=\"checkbox\" checked><label for=\"sk-estimator-id-1\" class=\"sk-toggleable__label sk-toggleable__label-arrow\">DecisionTreeRegressor</label><div class=\"sk-toggleable__content\"><pre>DecisionTreeRegressor()</pre></div></div></div></div></div>"
     },
     "execution_count": 4,
     "metadata": {},
     "output_type": "execute_result"
    }
   ],
   "source": [
    "model = DecisionTreeRegressor()\n",
    "model.fit(x_train, y_train)"
   ],
   "metadata": {
    "collapsed": false,
    "ExecuteTime": {
     "end_time": "2024-03-29T08:50:03.760753Z",
     "start_time": "2024-03-29T08:50:03.726866Z"
    }
   },
   "id": "9101487d8eef7caa",
   "execution_count": 4
  },
  {
   "cell_type": "code",
   "outputs": [
    {
     "name": "stdout",
     "output_type": "stream",
     "text": [
      "R2 score на тестовой выборке: 0.8900636169105752\n",
      "R2 score на обучающей выборке: 0.996602899770547\n"
     ]
    }
   ],
   "source": [
    "print(\n",
    "    f\"R2 score на тестовой выборке: {r2_score(y_test, model.predict(x_test))}\\nR2 score на обучающей выборке: {r2_score(y_train, model.predict(x_train))}\")\n",
    "# r2_score(y_train, y_pred_train)"
   ],
   "metadata": {
    "collapsed": false,
    "ExecuteTime": {
     "end_time": "2024-03-29T08:50:03.775846Z",
     "start_time": "2024-03-29T08:50:03.763293Z"
    }
   },
   "id": "4866fdd9653a0bdc",
   "execution_count": 5
  },
  {
   "cell_type": "code",
   "outputs": [
    {
     "data": {
      "text/plain": "year          0.200324\nmileage       0.083958\ntax           0.048534\nmpg           0.457521\nengineSize    0.209663\ndtype: float64"
     },
     "execution_count": 6,
     "metadata": {},
     "output_type": "execute_result"
    }
   ],
   "source": [
    "pd.Series(model.feature_importances_, index=num_val)"
   ],
   "metadata": {
    "collapsed": false,
    "ExecuteTime": {
     "end_time": "2024-03-29T08:50:03.785865Z",
     "start_time": "2024-03-29T08:50:03.777501Z"
    }
   },
   "id": "698c5b38a91d1867",
   "execution_count": 6
  },
  {
   "cell_type": "markdown",
   "source": [
    "Как можно заметить, самый важный признак для audi - mpg\n",
    "\n",
    "Но поподставляв разные марки можно выяснить что для большинства самый важный признак это mpg, но для некоторых больше важен год выпуска (bmw, ford), а для некоторых engineSize (toyota). А для мерседесов например, одинаково важен mileage и engineSize. "
   ],
   "metadata": {
    "collapsed": false
   },
   "id": "190f7ed07ffaff4e"
  },
  {
   "cell_type": "markdown",
   "source": [
    "# MEDIUM"
   ],
   "metadata": {
    "collapsed": false
   },
   "id": "be2b4b5618bf2289"
  },
  {
   "cell_type": "code",
   "outputs": [],
   "source": [
    "brands = [\"audi\", \"bmw\", \"cclass\", \"focus\", \"ford\", \"hyundi\", \"merc\", \"skoda\", \"toyota\", \"vauxhall\", \"vw\"]\n",
    "df_all = []\n",
    "index = 0\n",
    "for brand in brands:\n",
    "    df = pd.read_csv(f\"../data/{brand}.csv\")\n",
    "    df[\"brand\"] = index\n",
    "    index += 1\n",
    "    df_all.append(df)"
   ],
   "metadata": {
    "collapsed": false,
    "ExecuteTime": {
     "end_time": "2024-03-29T08:50:03.904749Z",
     "start_time": "2024-03-29T08:50:03.788203Z"
    }
   },
   "id": "65d82cb6edfb2a11",
   "execution_count": 7
  },
  {
   "cell_type": "markdown",
   "source": [
    "В датасете hyundi поле `tax` называется `tax(£)`. Поэтому переименуем это поле, чтобы при слиянии оно не доставляло проблем.\n",
    "\n",
    "Также зададим бренд уникальным числом сразу, чтобы потом не переводить строки в числа"
   ],
   "metadata": {
    "collapsed": false
   },
   "id": "f077ff82c978c4b6"
  },
  {
   "cell_type": "code",
   "outputs": [],
   "source": [
    "df_all[5].rename(columns={'tax(£)': 'tax'}, inplace=True)"
   ],
   "metadata": {
    "collapsed": false,
    "ExecuteTime": {
     "end_time": "2024-03-29T08:50:03.908987Z",
     "start_time": "2024-03-29T08:50:03.905810Z"
    }
   },
   "id": "8bb165f9fc24dea4",
   "execution_count": 8
  },
  {
   "cell_type": "code",
   "outputs": [
    {
     "data": {
      "text/plain": "      model  year  price transmission  mileage fuelType    tax   mpg  \\\n0        A1  2017  12500       Manual    15735   Petrol  150.0  55.4   \n1        A6  2016  16500    Automatic    36203   Diesel   20.0  64.2   \n2        A1  2016  11000       Manual    29946   Petrol   30.0  55.4   \n3        A4  2017  16800    Automatic    25952   Diesel  145.0  67.3   \n4        A3  2019  17300       Manual     1998   Petrol  145.0  49.6   \n...     ...   ...    ...          ...      ...      ...    ...   ...   \n15152   Eos  2012   5990       Manual    74000   Diesel  125.0  58.9   \n15153   Fox  2008   1799       Manual    88102   Petrol  145.0  46.3   \n15154   Fox  2009   1590       Manual    70000   Petrol  200.0  42.0   \n15155   Fox  2006   1250       Manual    82704   Petrol  150.0  46.3   \n15156   Fox  2007   2295       Manual    74000   Petrol  145.0  46.3   \n\n       engineSize  brand  \n0             1.4      0  \n1             2.0      0  \n2             1.4      0  \n3             2.0      0  \n4             1.0      0  \n...           ...    ...  \n15152         2.0     10  \n15153         1.2     10  \n15154         1.4     10  \n15155         1.2     10  \n15156         1.2     10  \n\n[108540 rows x 10 columns]",
      "text/html": "<div>\n<style scoped>\n    .dataframe tbody tr th:only-of-type {\n        vertical-align: middle;\n    }\n\n    .dataframe tbody tr th {\n        vertical-align: top;\n    }\n\n    .dataframe thead th {\n        text-align: right;\n    }\n</style>\n<table border=\"1\" class=\"dataframe\">\n  <thead>\n    <tr style=\"text-align: right;\">\n      <th></th>\n      <th>model</th>\n      <th>year</th>\n      <th>price</th>\n      <th>transmission</th>\n      <th>mileage</th>\n      <th>fuelType</th>\n      <th>tax</th>\n      <th>mpg</th>\n      <th>engineSize</th>\n      <th>brand</th>\n    </tr>\n  </thead>\n  <tbody>\n    <tr>\n      <th>0</th>\n      <td>A1</td>\n      <td>2017</td>\n      <td>12500</td>\n      <td>Manual</td>\n      <td>15735</td>\n      <td>Petrol</td>\n      <td>150.0</td>\n      <td>55.4</td>\n      <td>1.4</td>\n      <td>0</td>\n    </tr>\n    <tr>\n      <th>1</th>\n      <td>A6</td>\n      <td>2016</td>\n      <td>16500</td>\n      <td>Automatic</td>\n      <td>36203</td>\n      <td>Diesel</td>\n      <td>20.0</td>\n      <td>64.2</td>\n      <td>2.0</td>\n      <td>0</td>\n    </tr>\n    <tr>\n      <th>2</th>\n      <td>A1</td>\n      <td>2016</td>\n      <td>11000</td>\n      <td>Manual</td>\n      <td>29946</td>\n      <td>Petrol</td>\n      <td>30.0</td>\n      <td>55.4</td>\n      <td>1.4</td>\n      <td>0</td>\n    </tr>\n    <tr>\n      <th>3</th>\n      <td>A4</td>\n      <td>2017</td>\n      <td>16800</td>\n      <td>Automatic</td>\n      <td>25952</td>\n      <td>Diesel</td>\n      <td>145.0</td>\n      <td>67.3</td>\n      <td>2.0</td>\n      <td>0</td>\n    </tr>\n    <tr>\n      <th>4</th>\n      <td>A3</td>\n      <td>2019</td>\n      <td>17300</td>\n      <td>Manual</td>\n      <td>1998</td>\n      <td>Petrol</td>\n      <td>145.0</td>\n      <td>49.6</td>\n      <td>1.0</td>\n      <td>0</td>\n    </tr>\n    <tr>\n      <th>...</th>\n      <td>...</td>\n      <td>...</td>\n      <td>...</td>\n      <td>...</td>\n      <td>...</td>\n      <td>...</td>\n      <td>...</td>\n      <td>...</td>\n      <td>...</td>\n      <td>...</td>\n    </tr>\n    <tr>\n      <th>15152</th>\n      <td>Eos</td>\n      <td>2012</td>\n      <td>5990</td>\n      <td>Manual</td>\n      <td>74000</td>\n      <td>Diesel</td>\n      <td>125.0</td>\n      <td>58.9</td>\n      <td>2.0</td>\n      <td>10</td>\n    </tr>\n    <tr>\n      <th>15153</th>\n      <td>Fox</td>\n      <td>2008</td>\n      <td>1799</td>\n      <td>Manual</td>\n      <td>88102</td>\n      <td>Petrol</td>\n      <td>145.0</td>\n      <td>46.3</td>\n      <td>1.2</td>\n      <td>10</td>\n    </tr>\n    <tr>\n      <th>15154</th>\n      <td>Fox</td>\n      <td>2009</td>\n      <td>1590</td>\n      <td>Manual</td>\n      <td>70000</td>\n      <td>Petrol</td>\n      <td>200.0</td>\n      <td>42.0</td>\n      <td>1.4</td>\n      <td>10</td>\n    </tr>\n    <tr>\n      <th>15155</th>\n      <td>Fox</td>\n      <td>2006</td>\n      <td>1250</td>\n      <td>Manual</td>\n      <td>82704</td>\n      <td>Petrol</td>\n      <td>150.0</td>\n      <td>46.3</td>\n      <td>1.2</td>\n      <td>10</td>\n    </tr>\n    <tr>\n      <th>15156</th>\n      <td>Fox</td>\n      <td>2007</td>\n      <td>2295</td>\n      <td>Manual</td>\n      <td>74000</td>\n      <td>Petrol</td>\n      <td>145.0</td>\n      <td>46.3</td>\n      <td>1.2</td>\n      <td>10</td>\n    </tr>\n  </tbody>\n</table>\n<p>108540 rows × 10 columns</p>\n</div>"
     },
     "execution_count": 9,
     "metadata": {},
     "output_type": "execute_result"
    }
   ],
   "source": [
    "merged = pd.concat(df_all)\n",
    "merged"
   ],
   "metadata": {
    "collapsed": false,
    "ExecuteTime": {
     "end_time": "2024-03-29T08:50:04.021639Z",
     "start_time": "2024-03-29T08:50:03.910187Z"
    }
   },
   "id": "c57b5e4f2ceb3025",
   "execution_count": 9
  },
  {
   "cell_type": "markdown",
   "source": [
    "Преобразуем категориальные признаки"
   ],
   "metadata": {
    "collapsed": false
   },
   "id": "825bf98c4b81276c"
  },
  {
   "cell_type": "code",
   "outputs": [
    {
     "data": {
      "text/plain": "model            object\nyear              int64\nprice             int64\ntransmission     object\nmileage           int64\nfuelType         object\ntax             float64\nmpg             float64\nengineSize      float64\nbrand             int64\ndtype: object"
     },
     "execution_count": 10,
     "metadata": {},
     "output_type": "execute_result"
    }
   ],
   "source": [
    "merged.dtypes"
   ],
   "metadata": {
    "collapsed": false,
    "ExecuteTime": {
     "end_time": "2024-03-29T08:50:04.027463Z",
     "start_time": "2024-03-29T08:50:04.022809Z"
    }
   },
   "id": "ecf41c8fd7fcafc9",
   "execution_count": 10
  },
  {
   "cell_type": "code",
   "outputs": [
    {
     "name": "stdout",
     "output_type": "stream",
     "text": [
      "<class 'pandas.core.frame.DataFrame'>\n",
      "Index: 99187 entries, 0 to 15156\n",
      "Data columns (total 10 columns):\n",
      " #   Column        Non-Null Count  Dtype  \n",
      "---  ------        --------------  -----  \n",
      " 0   model         99187 non-null  int64  \n",
      " 1   year          99187 non-null  int64  \n",
      " 2   price         99187 non-null  int64  \n",
      " 3   transmission  99187 non-null  int64  \n",
      " 4   mileage       99187 non-null  int64  \n",
      " 5   fuelType      99187 non-null  int64  \n",
      " 6   tax           99187 non-null  float64\n",
      " 7   mpg           99187 non-null  float64\n",
      " 8   engineSize    99187 non-null  float64\n",
      " 9   brand         99187 non-null  int64  \n",
      "dtypes: float64(3), int64(7)\n",
      "memory usage: 8.3 MB\n"
     ]
    }
   ],
   "source": [
    "labelencoder = LabelEncoder()\n",
    "merged[\"model\"] = labelencoder.fit_transform(merged[\"model\"])\n",
    "merged[\"transmission\"] = labelencoder.fit_transform(merged[\"transmission\"])\n",
    "merged[\"fuelType\"] = labelencoder.fit_transform(merged[\"fuelType\"])\n",
    "merged.dropna(inplace=True)\n",
    "merged.info()"
   ],
   "metadata": {
    "collapsed": false,
    "ExecuteTime": {
     "end_time": "2024-03-29T08:50:04.106785Z",
     "start_time": "2024-03-29T08:50:04.029209Z"
    }
   },
   "id": "c3bbe1eac41bdd73",
   "execution_count": 11
  },
  {
   "cell_type": "code",
   "outputs": [],
   "source": [
    "params = {\n",
    "    'min_samples_leaf': [1, 5, 15, 30],\n",
    "    'splitter': ['best', 'random'],\n",
    "    'max_depth': [5, 25, 50, 100, 200, 300, 400, 500],\n",
    "    'criterion': ['squared_error', 'friedman_mse']\n",
    "}\n",
    "train = merged[['model', 'year', 'transmission', 'mileage', 'fuelType', 'tax', 'mpg', 'engineSize', 'brand']]\n",
    "x_train, x_test, y_train, y_test = train_test_split(train, merged['price'], train_size=0.8)\n"
   ],
   "metadata": {
    "collapsed": false,
    "ExecuteTime": {
     "end_time": "2024-03-29T08:50:04.129941Z",
     "start_time": "2024-03-29T08:50:04.107880Z"
    }
   },
   "id": "668e8f15c36f689",
   "execution_count": 12
  },
  {
   "cell_type": "code",
   "outputs": [
    {
     "name": "stdout",
     "output_type": "stream",
     "text": [
      "CPU times: user 1min 27s, sys: 1.18 s, total: 1min 28s\n",
      "Wall time: 1min 28s\n"
     ]
    },
    {
     "data": {
      "text/plain": "DecisionTreeRegressor(max_depth=200, min_samples_leaf=5)",
      "text/html": "<style>#sk-container-id-2 {color: black;}#sk-container-id-2 pre{padding: 0;}#sk-container-id-2 div.sk-toggleable {background-color: white;}#sk-container-id-2 label.sk-toggleable__label {cursor: pointer;display: block;width: 100%;margin-bottom: 0;padding: 0.3em;box-sizing: border-box;text-align: center;}#sk-container-id-2 label.sk-toggleable__label-arrow:before {content: \"▸\";float: left;margin-right: 0.25em;color: #696969;}#sk-container-id-2 label.sk-toggleable__label-arrow:hover:before {color: black;}#sk-container-id-2 div.sk-estimator:hover label.sk-toggleable__label-arrow:before {color: black;}#sk-container-id-2 div.sk-toggleable__content {max-height: 0;max-width: 0;overflow: hidden;text-align: left;background-color: #f0f8ff;}#sk-container-id-2 div.sk-toggleable__content pre {margin: 0.2em;color: black;border-radius: 0.25em;background-color: #f0f8ff;}#sk-container-id-2 input.sk-toggleable__control:checked~div.sk-toggleable__content {max-height: 200px;max-width: 100%;overflow: auto;}#sk-container-id-2 input.sk-toggleable__control:checked~label.sk-toggleable__label-arrow:before {content: \"▾\";}#sk-container-id-2 div.sk-estimator input.sk-toggleable__control:checked~label.sk-toggleable__label {background-color: #d4ebff;}#sk-container-id-2 div.sk-label input.sk-toggleable__control:checked~label.sk-toggleable__label {background-color: #d4ebff;}#sk-container-id-2 input.sk-hidden--visually {border: 0;clip: rect(1px 1px 1px 1px);clip: rect(1px, 1px, 1px, 1px);height: 1px;margin: -1px;overflow: hidden;padding: 0;position: absolute;width: 1px;}#sk-container-id-2 div.sk-estimator {font-family: monospace;background-color: #f0f8ff;border: 1px dotted black;border-radius: 0.25em;box-sizing: border-box;margin-bottom: 0.5em;}#sk-container-id-2 div.sk-estimator:hover {background-color: #d4ebff;}#sk-container-id-2 div.sk-parallel-item::after {content: \"\";width: 100%;border-bottom: 1px solid gray;flex-grow: 1;}#sk-container-id-2 div.sk-label:hover label.sk-toggleable__label {background-color: #d4ebff;}#sk-container-id-2 div.sk-serial::before {content: \"\";position: absolute;border-left: 1px solid gray;box-sizing: border-box;top: 0;bottom: 0;left: 50%;z-index: 0;}#sk-container-id-2 div.sk-serial {display: flex;flex-direction: column;align-items: center;background-color: white;padding-right: 0.2em;padding-left: 0.2em;position: relative;}#sk-container-id-2 div.sk-item {position: relative;z-index: 1;}#sk-container-id-2 div.sk-parallel {display: flex;align-items: stretch;justify-content: center;background-color: white;position: relative;}#sk-container-id-2 div.sk-item::before, #sk-container-id-2 div.sk-parallel-item::before {content: \"\";position: absolute;border-left: 1px solid gray;box-sizing: border-box;top: 0;bottom: 0;left: 50%;z-index: -1;}#sk-container-id-2 div.sk-parallel-item {display: flex;flex-direction: column;z-index: 1;position: relative;background-color: white;}#sk-container-id-2 div.sk-parallel-item:first-child::after {align-self: flex-end;width: 50%;}#sk-container-id-2 div.sk-parallel-item:last-child::after {align-self: flex-start;width: 50%;}#sk-container-id-2 div.sk-parallel-item:only-child::after {width: 0;}#sk-container-id-2 div.sk-dashed-wrapped {border: 1px dashed gray;margin: 0 0.4em 0.5em 0.4em;box-sizing: border-box;padding-bottom: 0.4em;background-color: white;}#sk-container-id-2 div.sk-label label {font-family: monospace;font-weight: bold;display: inline-block;line-height: 1.2em;}#sk-container-id-2 div.sk-label-container {text-align: center;}#sk-container-id-2 div.sk-container {/* jupyter's `normalize.less` sets `[hidden] { display: none; }` but bootstrap.min.css set `[hidden] { display: none !important; }` so we also need the `!important` here to be able to override the default hidden behavior on the sphinx rendered scikit-learn.org. See: https://github.com/scikit-learn/scikit-learn/issues/21755 */display: inline-block !important;position: relative;}#sk-container-id-2 div.sk-text-repr-fallback {display: none;}</style><div id=\"sk-container-id-2\" class=\"sk-top-container\"><div class=\"sk-text-repr-fallback\"><pre>DecisionTreeRegressor(max_depth=200, min_samples_leaf=5)</pre><b>In a Jupyter environment, please rerun this cell to show the HTML representation or trust the notebook. <br />On GitHub, the HTML representation is unable to render, please try loading this page with nbviewer.org.</b></div><div class=\"sk-container\" hidden><div class=\"sk-item\"><div class=\"sk-estimator sk-toggleable\"><input class=\"sk-toggleable__control sk-hidden--visually\" id=\"sk-estimator-id-2\" type=\"checkbox\" checked><label for=\"sk-estimator-id-2\" class=\"sk-toggleable__label sk-toggleable__label-arrow\">DecisionTreeRegressor</label><div class=\"sk-toggleable__content\"><pre>DecisionTreeRegressor(max_depth=200, min_samples_leaf=5)</pre></div></div></div></div></div>"
     },
     "execution_count": 13,
     "metadata": {},
     "output_type": "execute_result"
    }
   ],
   "source": [
    "%%time\n",
    "\n",
    "search = GridSearchCV(DecisionTreeRegressor(), params)\n",
    "search.fit(x_train, y_train)\n",
    "search.best_estimator_"
   ],
   "metadata": {
    "collapsed": false,
    "ExecuteTime": {
     "end_time": "2024-03-29T08:51:33.011991Z",
     "start_time": "2024-03-29T08:50:04.131449Z"
    }
   },
   "id": "56f53e79256d6c0f",
   "execution_count": 13
  },
  {
   "cell_type": "code",
   "outputs": [
    {
     "data": {
      "text/plain": "                                                params  mean_test_score\n34   {'criterion': 'squared_error', 'max_depth': 20...         0.933010\n90   {'criterion': 'friedman_mse', 'max_depth': 100...         0.933002\n82   {'criterion': 'friedman_mse', 'max_depth': 50,...         0.932955\n122  {'criterion': 'friedman_mse', 'max_depth': 500...         0.932955\n106  {'criterion': 'friedman_mse', 'max_depth': 300...         0.932890\n..                                                 ...              ...\n71   {'criterion': 'friedman_mse', 'max_depth': 5, ...         0.618918\n65   {'criterion': 'friedman_mse', 'max_depth': 5, ...         0.618437\n67   {'criterion': 'friedman_mse', 'max_depth': 5, ...         0.616081\n69   {'criterion': 'friedman_mse', 'max_depth': 5, ...         0.605133\n3    {'criterion': 'squared_error', 'max_depth': 5,...         0.601201\n\n[128 rows x 2 columns]",
      "text/html": "<div>\n<style scoped>\n    .dataframe tbody tr th:only-of-type {\n        vertical-align: middle;\n    }\n\n    .dataframe tbody tr th {\n        vertical-align: top;\n    }\n\n    .dataframe thead th {\n        text-align: right;\n    }\n</style>\n<table border=\"1\" class=\"dataframe\">\n  <thead>\n    <tr style=\"text-align: right;\">\n      <th></th>\n      <th>params</th>\n      <th>mean_test_score</th>\n    </tr>\n  </thead>\n  <tbody>\n    <tr>\n      <th>34</th>\n      <td>{'criterion': 'squared_error', 'max_depth': 20...</td>\n      <td>0.933010</td>\n    </tr>\n    <tr>\n      <th>90</th>\n      <td>{'criterion': 'friedman_mse', 'max_depth': 100...</td>\n      <td>0.933002</td>\n    </tr>\n    <tr>\n      <th>82</th>\n      <td>{'criterion': 'friedman_mse', 'max_depth': 50,...</td>\n      <td>0.932955</td>\n    </tr>\n    <tr>\n      <th>122</th>\n      <td>{'criterion': 'friedman_mse', 'max_depth': 500...</td>\n      <td>0.932955</td>\n    </tr>\n    <tr>\n      <th>106</th>\n      <td>{'criterion': 'friedman_mse', 'max_depth': 300...</td>\n      <td>0.932890</td>\n    </tr>\n    <tr>\n      <th>...</th>\n      <td>...</td>\n      <td>...</td>\n    </tr>\n    <tr>\n      <th>71</th>\n      <td>{'criterion': 'friedman_mse', 'max_depth': 5, ...</td>\n      <td>0.618918</td>\n    </tr>\n    <tr>\n      <th>65</th>\n      <td>{'criterion': 'friedman_mse', 'max_depth': 5, ...</td>\n      <td>0.618437</td>\n    </tr>\n    <tr>\n      <th>67</th>\n      <td>{'criterion': 'friedman_mse', 'max_depth': 5, ...</td>\n      <td>0.616081</td>\n    </tr>\n    <tr>\n      <th>69</th>\n      <td>{'criterion': 'friedman_mse', 'max_depth': 5, ...</td>\n      <td>0.605133</td>\n    </tr>\n    <tr>\n      <th>3</th>\n      <td>{'criterion': 'squared_error', 'max_depth': 5,...</td>\n      <td>0.601201</td>\n    </tr>\n  </tbody>\n</table>\n<p>128 rows × 2 columns</p>\n</div>"
     },
     "execution_count": 14,
     "metadata": {},
     "output_type": "execute_result"
    }
   ],
   "source": [
    "df = pd.DataFrame(search.cv_results_)\n",
    "df[['params', 'mean_test_score']].sort_values('mean_test_score', ascending=False)"
   ],
   "metadata": {
    "collapsed": false,
    "ExecuteTime": {
     "end_time": "2024-03-29T08:51:33.027620Z",
     "start_time": "2024-03-29T08:51:33.014993Z"
    }
   },
   "id": "d0f1fbd6c0f10d14",
   "execution_count": 14
  },
  {
   "cell_type": "markdown",
   "source": [
    "Посмотрев на табличку можно сказать, что хорошие модели сильно не отличаются, а заведомо плохие, как и ожидалось, предсказывают очень плохо"
   ],
   "metadata": {
    "collapsed": false
   },
   "id": "e9c4403db19ae5ff"
  }
 ],
 "metadata": {
  "kernelspec": {
   "display_name": "Python 3",
   "language": "python",
   "name": "python3"
  },
  "language_info": {
   "codemirror_mode": {
    "name": "ipython",
    "version": 2
   },
   "file_extension": ".py",
   "mimetype": "text/x-python",
   "name": "python",
   "nbconvert_exporter": "python",
   "pygments_lexer": "ipython2",
   "version": "2.7.6"
  }
 },
 "nbformat": 4,
 "nbformat_minor": 5
}
