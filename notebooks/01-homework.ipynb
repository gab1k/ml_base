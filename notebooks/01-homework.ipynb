{
 "cells": [
  {
   "cell_type": "markdown",
   "source": [
    "## Easy"
   ],
   "metadata": {
    "collapsed": false
   },
   "id": "7a72092400be2c3b"
  },
  {
   "cell_type": "code",
   "execution_count": 1,
   "id": "initial_id",
   "metadata": {
    "collapsed": true,
    "ExecuteTime": {
     "end_time": "2024-01-19T19:19:46.552647035Z",
     "start_time": "2024-01-19T19:19:46.550338128Z"
    }
   },
   "outputs": [],
   "source": [
    "def func(a: list[int]) -> dict[str: float]:\n",
    "    if len(a) == 0:\n",
    "        return {\"mean\": None, \"median\": None, \"mode\": None}\n",
    "    a.sort()\n",
    "    mean = sum(a) / len(a)\n",
    "    median = a[len(a) // 2]\n",
    "    if len(a) % 2 == 0:\n",
    "        median = (a[len(a) // 2] + a[len(a) // 2 - 1]) / 2\n",
    "    mode, mx_count, count = a[0], 1, 1\n",
    "    for i in range(1, len(a)):\n",
    "        if a[i] != a[i - 1]: # числа отсортированы, можем себе позволить смотреть только на соседние\n",
    "            if mx_count < count:\n",
    "                mx_count = count\n",
    "                mode = a[i - 1]\n",
    "            count = 1\n",
    "        else:\n",
    "            count += 1\n",
    "    if count > mx_count:\n",
    "        mode = a[-1]\n",
    "    return {\"mean\": mean, \"median\": median, \"mode\": mode}"
   ]
  },
  {
   "cell_type": "markdown",
   "source": [
    "## Medium"
   ],
   "metadata": {
    "collapsed": false
   },
   "id": "fe6b32038be8bc30"
  },
  {
   "cell_type": "code",
   "outputs": [
    {
     "name": "stdout",
     "output_type": "stream",
     "text": [
      "Больше всего ног у Broodmother. У него их аж целых 8!\n"
     ]
    }
   ],
   "source": [
    "def parse_csv(file_content: str) -> list[dict]:\n",
    "    lines = file_content.split(\"\\n\")\n",
    "    columns_name = lines[0].split(\",\")\n",
    "    ans = []\n",
    "    for i in range(1, len(lines)):\n",
    "        mass = \"\"\n",
    "        opened = False\n",
    "        for j in range(len(lines[i])): # в этом цикле мы обрабатываем массив ролей, не добавляя ' в строку, чтобы потом удобно сделать split\n",
    "            if lines[i][j] == \"]\":\n",
    "                opened = False\n",
    "            if opened:\n",
    "                if lines[i][j] != \"'\":\n",
    "                    mass += lines[i][j]\n",
    "            if lines[i][j] == \"[\":\n",
    "                opened = True\n",
    "        hero_info = {\"rules\": mass.split(\", \")}\n",
    "        \n",
    "        hero_str = lines[i].split(\",\")\n",
    "        for j in range(1, 7):\n",
    "            hero_info[columns_name[j]] = hero_str[j]\n",
    "        ans.append(hero_info)\n",
    "    return ans\n",
    "\n",
    "\n",
    "with open(\"../data/dota_hero_stats.csv\") as f:\n",
    "    heroes_info = parse_csv(f.read())\n",
    "    mx_leg, mx_leg_hero = 0, None\n",
    "    for hero in heroes_info:\n",
    "        if int(hero[\"legs\"]) > mx_leg:\n",
    "            mx_leg_hero = hero[\"localized_name\"]\n",
    "            mx_leg = int(hero[\"legs\"])\n",
    "    print(f\"Больше всего ног у {mx_leg_hero}. У него их аж целых {mx_leg}!\")"
   ],
   "metadata": {
    "collapsed": false,
    "ExecuteTime": {
     "end_time": "2024-01-19T19:19:46.604267998Z",
     "start_time": "2024-01-19T19:19:46.551363856Z"
    }
   },
   "id": "58ce7f6312e5bedb",
   "execution_count": 2
  }
 ],
 "metadata": {
  "kernelspec": {
   "display_name": "Python 3",
   "language": "python",
   "name": "python3"
  },
  "language_info": {
   "codemirror_mode": {
    "name": "ipython",
    "version": 2
   },
   "file_extension": ".py",
   "mimetype": "text/x-python",
   "name": "python",
   "nbconvert_exporter": "python",
   "pygments_lexer": "ipython2",
   "version": "2.7.6"
  }
 },
 "nbformat": 4,
 "nbformat_minor": 5
}
